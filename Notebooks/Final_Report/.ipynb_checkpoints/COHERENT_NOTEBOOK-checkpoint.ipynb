{
 "cells": [
  {
   "cell_type": "markdown",
   "id": "d5573f08",
   "metadata": {},
   "source": [
    "# STRUCTURE \n",
    "#### 1. Introduction & Approach\n",
    "#### 2. Data Extraction\n",
    "#### 3. Data Exploration\n",
    "#### 4. Research \n",
    "#### 5. Sentiment \n",
    "#### 6. Evaluation \n",
    "#### 7. Conclusions\n",
    "\n"
   ]
  },
  {
   "cell_type": "markdown",
   "id": "511ab62c",
   "metadata": {},
   "source": [
    "# Introduction & Approach"
   ]
  },
  {
   "cell_type": "markdown",
   "id": "a05732c2",
   "metadata": {},
   "source": [
    "- What are we doing? Why? \n",
    "- Which questions are we answering? \n",
    "- How do we plant to do it? \n",
    "- How is this notebook structured? "
   ]
  },
  {
   "cell_type": "markdown",
   "id": "8b73bc70",
   "metadata": {},
   "source": [
    "# Data Extraction "
   ]
  },
  {
   "cell_type": "markdown",
   "id": "ffbb3561",
   "metadata": {},
   "source": [
    "- Submission extraction + cleaning\n",
    "- yFinance stock price extraction + cleaning "
   ]
  },
  {
   "cell_type": "markdown",
   "id": "f5ba1ee9",
   "metadata": {},
   "source": [
    "# Data Exploration"
   ]
  },
  {
   "cell_type": "markdown",
   "id": "75f35e08",
   "metadata": {},
   "source": [
    "- Plots of number of submissions with open and close prices. \n",
    "- Preprocessing of words \n",
    "- Word Frequnecy\n",
    "- Analysis and WordClouds\n",
    "- WSB Lingo \n",
    "- Emoji Analysis \n",
    "- Conclusions, challenges and potentail solutions (being aware and critical of our own approach). "
   ]
  },
  {
   "cell_type": "markdown",
   "id": "e194c237",
   "metadata": {},
   "source": [
    "# Research"
   ]
  },
  {
   "cell_type": "markdown",
   "id": "a2a87ab1",
   "metadata": {},
   "source": [
    "- Timeline of Events, make viausally appealing, maybe use a nice design or a cool slide template \n",
    "- Plot the same timeline on the stock price chart\n",
    "- Diuscuss on the posssble implications"
   ]
  },
  {
   "cell_type": "markdown",
   "id": "b76679ea",
   "metadata": {},
   "source": [
    "# Sentiment"
   ]
  },
  {
   "cell_type": "markdown",
   "id": "8abaf17e",
   "metadata": {},
   "source": [
    "- Introduction on types of sentiment analysis and off-the shelft solutions + advantages + shortcomngs\n",
    "- Introduction on more elaborate sentiment methods, advatages + shortcomings \n",
    "- Preprocessing - done\n",
    "- TextBlob - done\n",
    "- Vader - done\n",
    "- WordVectors + SVC \n",
    "- RNN \n",
    "- Results "
   ]
  },
  {
   "cell_type": "markdown",
   "id": "6fc3f74c",
   "metadata": {},
   "source": [
    "There are many tools available for semtiment analysis. On a spectrum between off-the-shelf and custom, off-the-shelf tools are fast, easy and accessible libraries of pre-trained models that semalessly provide a measure of polarity (positive or negative sentiment) on a given text input. On the other hand, custom models are possbly more accurate and a better fit to the specific problem you're trying to solve, but they take more time and require a deeper understanding of the underlying techniques. Finally, there are also many solutions in between: off-the-shelf that offer some customisation, advanced techniques that can be applied quickly. We begin by looking at TexBlob, the easiest and quickest, then we move to Vader, which offers some customisation, and the we explore other sentiment techniques using wor embeddings. \n",
    "\n",
    "Before applying any technique, we preprocess our dataset in order to strip it from characters and unuseful text. We lowercase all the text in submissions, remove stop words, and lemmatize the text."
   ]
  },
  {
   "cell_type": "markdown",
   "id": "4c933457",
   "metadata": {},
   "source": [
    "### Importing Data"
   ]
  },
  {
   "cell_type": "code",
   "execution_count": 26,
   "id": "3764d759",
   "metadata": {},
   "outputs": [
    {
     "data": {
      "text/html": [
       "<div>\n",
       "<style scoped>\n",
       "    .dataframe tbody tr th:only-of-type {\n",
       "        vertical-align: middle;\n",
       "    }\n",
       "\n",
       "    .dataframe tbody tr th {\n",
       "        vertical-align: top;\n",
       "    }\n",
       "\n",
       "    .dataframe thead th {\n",
       "        text-align: right;\n",
       "    }\n",
       "</style>\n",
       "<table border=\"1\" class=\"dataframe\">\n",
       "  <thead>\n",
       "    <tr style=\"text-align: right;\">\n",
       "      <th></th>\n",
       "      <th>created</th>\n",
       "      <th>author</th>\n",
       "      <th>title</th>\n",
       "    </tr>\n",
       "  </thead>\n",
       "  <tbody>\n",
       "    <tr>\n",
       "      <th>0</th>\n",
       "      <td>2020-12-29</td>\n",
       "      <td>WallStWarlock</td>\n",
       "      <td>GME sign from the QUAZAR.</td>\n",
       "    </tr>\n",
       "    <tr>\n",
       "      <th>1</th>\n",
       "      <td>2020-12-29</td>\n",
       "      <td>Cali_Godbod</td>\n",
       "      <td>5th trade: GME Gang rise up</td>\n",
       "    </tr>\n",
       "    <tr>\n",
       "      <th>2</th>\n",
       "      <td>2020-12-29</td>\n",
       "      <td>Blitz100000</td>\n",
       "      <td>How much to invest in GME and PLTR</td>\n",
       "    </tr>\n",
       "    <tr>\n",
       "      <th>3</th>\n",
       "      <td>2020-12-29</td>\n",
       "      <td>kunjinn</td>\n",
       "      <td>Yesterday I was celebrating, today I am in the...</td>\n",
       "    </tr>\n",
       "    <tr>\n",
       "      <th>4</th>\n",
       "      <td>2020-12-29</td>\n",
       "      <td>Effect_Wild</td>\n",
       "      <td>GME DD, look at all the out of stock stickers ...</td>\n",
       "    </tr>\n",
       "  </tbody>\n",
       "</table>\n",
       "</div>"
      ],
      "text/plain": [
       "     created         author                                              title\n",
       "0 2020-12-29  WallStWarlock                          GME sign from the QUAZAR.\n",
       "1 2020-12-29    Cali_Godbod                        5th trade: GME Gang rise up\n",
       "2 2020-12-29    Blitz100000                 How much to invest in GME and PLTR\n",
       "3 2020-12-29        kunjinn  Yesterday I was celebrating, today I am in the...\n",
       "4 2020-12-29    Effect_Wild  GME DD, look at all the out of stock stickers ..."
      ]
     },
     "execution_count": 26,
     "metadata": {},
     "output_type": "execute_result"
    }
   ],
   "source": [
    "import pandas as pd\n",
    "                     #change this source accoridng to the file of the dataframe\n",
    "sub_df = pd.read_csv(\"/Users/FCRA/Desktop/ALL/BSI/bsi-reddit-gme/pyfiles/sub_df.csv\")\n",
    "sent_df = sub_df.loc[:,(\"created\", \"author\", \"title\")]\n",
    "sent_df.loc[:,\"created\"] = pd.to_datetime(sub_df.loc[:,'created']).dt.floor('d') \n",
    "sent_df.head()"
   ]
  },
  {
   "cell_type": "code",
   "execution_count": 96,
   "id": "12bffa54",
   "metadata": {},
   "outputs": [
    {
     "data": {
      "text/html": [
       "<div>\n",
       "<style scoped>\n",
       "    .dataframe tbody tr th:only-of-type {\n",
       "        vertical-align: middle;\n",
       "    }\n",
       "\n",
       "    .dataframe tbody tr th {\n",
       "        vertical-align: top;\n",
       "    }\n",
       "\n",
       "    .dataframe thead th {\n",
       "        text-align: right;\n",
       "    }\n",
       "</style>\n",
       "<table border=\"1\" class=\"dataframe\">\n",
       "  <thead>\n",
       "    <tr style=\"text-align: right;\">\n",
       "      <th></th>\n",
       "      <th>Date</th>\n",
       "      <th>Open</th>\n",
       "      <th>High</th>\n",
       "      <th>Low</th>\n",
       "      <th>Close</th>\n",
       "      <th>Volume</th>\n",
       "      <th>Dividends</th>\n",
       "      <th>Stock Splits</th>\n",
       "    </tr>\n",
       "  </thead>\n",
       "  <tbody>\n",
       "    <tr>\n",
       "      <th>0</th>\n",
       "      <td>2020-12-21</td>\n",
       "      <td>15.810000</td>\n",
       "      <td>16.350000</td>\n",
       "      <td>15.280000</td>\n",
       "      <td>15.530000</td>\n",
       "      <td>9876100</td>\n",
       "      <td>0</td>\n",
       "      <td>0</td>\n",
       "    </tr>\n",
       "    <tr>\n",
       "      <th>1</th>\n",
       "      <td>2020-12-22</td>\n",
       "      <td>16.219999</td>\n",
       "      <td>20.040001</td>\n",
       "      <td>16.150000</td>\n",
       "      <td>19.459999</td>\n",
       "      <td>30652700</td>\n",
       "      <td>0</td>\n",
       "      <td>0</td>\n",
       "    </tr>\n",
       "    <tr>\n",
       "      <th>2</th>\n",
       "      <td>2020-12-23</td>\n",
       "      <td>20.170000</td>\n",
       "      <td>22.350000</td>\n",
       "      <td>19.129999</td>\n",
       "      <td>20.570000</td>\n",
       "      <td>25830300</td>\n",
       "      <td>0</td>\n",
       "      <td>0</td>\n",
       "    </tr>\n",
       "    <tr>\n",
       "      <th>3</th>\n",
       "      <td>2020-12-24</td>\n",
       "      <td>21.010000</td>\n",
       "      <td>21.480000</td>\n",
       "      <td>19.950001</td>\n",
       "      <td>20.150000</td>\n",
       "      <td>6262200</td>\n",
       "      <td>0</td>\n",
       "      <td>0</td>\n",
       "    </tr>\n",
       "    <tr>\n",
       "      <th>4</th>\n",
       "      <td>2020-12-28</td>\n",
       "      <td>21.309999</td>\n",
       "      <td>21.969999</td>\n",
       "      <td>20.350000</td>\n",
       "      <td>20.990000</td>\n",
       "      <td>8965900</td>\n",
       "      <td>0</td>\n",
       "      <td>0</td>\n",
       "    </tr>\n",
       "  </tbody>\n",
       "</table>\n",
       "</div>"
      ],
      "text/plain": [
       "         Date       Open       High        Low      Close    Volume  \\\n",
       "0  2020-12-21  15.810000  16.350000  15.280000  15.530000   9876100   \n",
       "1  2020-12-22  16.219999  20.040001  16.150000  19.459999  30652700   \n",
       "2  2020-12-23  20.170000  22.350000  19.129999  20.570000  25830300   \n",
       "3  2020-12-24  21.010000  21.480000  19.950001  20.150000   6262200   \n",
       "4  2020-12-28  21.309999  21.969999  20.350000  20.990000   8965900   \n",
       "\n",
       "   Dividends  Stock Splits  \n",
       "0          0             0  \n",
       "1          0             0  \n",
       "2          0             0  \n",
       "3          0             0  \n",
       "4          0             0  "
      ]
     },
     "execution_count": 96,
     "metadata": {},
     "output_type": "execute_result"
    }
   ],
   "source": [
    "stock_df = pd.read_csv(\"/Users/FCRA/Desktop/ALL/BSI/bsi-reddit-gme/pyfiles/gme_stock_data.csv\")\n",
    "stock_df = stock_df.loc[:, ~stock_df.columns.str.contains('^Unnamed')]\n",
    "stock_df.head()"
   ]
  },
  {
   "cell_type": "markdown",
   "id": "6b7fcc85",
   "metadata": {},
   "source": [
    "### Preprocessing "
   ]
  },
  {
   "cell_type": "code",
   "execution_count": 2,
   "id": "b0dc7476",
   "metadata": {},
   "outputs": [
    {
     "name": "stdout",
     "output_type": "stream",
     "text": [
      "showing info https://raw.githubusercontent.com/nltk/nltk_data/gh-pages/index.xml\n"
     ]
    },
    {
     "data": {
      "text/plain": [
       "True"
      ]
     },
     "execution_count": 2,
     "metadata": {},
     "output_type": "execute_result"
    }
   ],
   "source": [
    "# because the nltk download script in the next cell is broken, \n",
    "# run this script and double-click on \"all packages\" to download the necssary data from nltk. \n",
    "# you can do this once only, so you can ignore it if you re-run this notebook. \n",
    "import nltk\n",
    "import ssl\n",
    "\n",
    "try:\n",
    "    _create_unverified_https_context = ssl._create_unverified_context\n",
    "except AttributeError:\n",
    "    pass\n",
    "else:\n",
    "    ssl._create_default_https_context = _create_unverified_https_context\n",
    "\n",
    "nltk.download()"
   ]
  },
  {
   "cell_type": "code",
   "execution_count": null,
   "id": "5dfccf95",
   "metadata": {},
   "outputs": [],
   "source": [
    "#imports necessary\n",
    "import nltk\n",
    "nltk.download('stopwords')\n",
    "nltk.download('wordnet')\n",
    "nltk.download('punkt')"
   ]
  },
  {
   "cell_type": "code",
   "execution_count": 27,
   "id": "462fb045",
   "metadata": {},
   "outputs": [],
   "source": [
    "from nltk.tokenize import word_tokenize\n",
    "from nltk.stem import WordNetLemmatizer \n",
    "from nltk.corpus import wordnet\n",
    "\n",
    "#stopwords\n",
    "from nltk.corpus import stopwords\n",
    "stop = stopwords.words('english')\n",
    "\n",
    "#part-of-speech tagging\n",
    "def get_wordnet_pos(text):\n",
    "  for tok, pos in nltk.pos_tag(word_tokenize(text)):\n",
    "    if pos[0].lower() =='j':\n",
    "      return wordnet.ADJ\n",
    "    elif pos[0].lower() =='v':\n",
    "      return wordnet.VERB\n",
    "    elif pos[0].lower() =='n':\n",
    "      return wordnet.NOUN\n",
    "    elif pos[0].lower() =='r':\n",
    "      return wordnet.ADV\n",
    "    else:\n",
    "      return wordnet.NOUN   #if anything else, just leave as noun\n",
    "\n",
    "#lemmatization\n",
    "lemmatizer = WordNetLemmatizer() \n",
    "\n",
    "def tagandlemma(title): \n",
    "  words = word_tokenize(title)\n",
    "  lemmatized_words = [lemmatizer.lemmatize(word, pos=f\"{get_wordnet_pos(word)}\") for word in words]\n",
    "  return \" \".join(lemmatized_words)"
   ]
  },
  {
   "cell_type": "markdown",
   "id": "c9fa2895",
   "metadata": {},
   "source": [
    "Here we apply the preprocessing functions, since our dataset contains around 76K submissions, it might take a while to run, so be patient :)"
   ]
  },
  {
   "cell_type": "code",
   "execution_count": 28,
   "id": "c8186614",
   "metadata": {},
   "outputs": [
    {
     "name": "stderr",
     "output_type": "stream",
     "text": [
      "<ipython-input-28-a9d8e1e6e223>:2: FutureWarning: The default value of regex will change from True to False in a future version.\n",
      "  sent_df.loc[:,\"ptitle\"] = sent_df.loc[:,\"title\"].str.lower().str.replace(r'([^a-zA-Z\\s])|(^https?:\\/\\/.*[\\r\\n]*)', '')\n"
     ]
    }
   ],
   "source": [
    "import re\n",
    "sent_df.loc[:,\"ptitle\"] = sent_df.loc[:,\"title\"].str.lower().str.replace(r'([^a-zA-Z\\s])|(^https?:\\/\\/.*[\\r\\n]*)', '')\n",
    "sent_df.loc[:,\"ptitle\"] = sent_df.loc[:,\"ptitle\"].apply(lambda x: \" \".join(x for x in x.split() if x not in stop))\n",
    "sent_df.loc[:,\"ptitle\"] = sent_df.loc[:,\"ptitle\"].apply(lambda x: tagandlemma(x))"
   ]
  },
  {
   "cell_type": "code",
   "execution_count": 29,
   "id": "0d41839a",
   "metadata": {},
   "outputs": [
    {
     "data": {
      "text/html": [
       "<div>\n",
       "<style scoped>\n",
       "    .dataframe tbody tr th:only-of-type {\n",
       "        vertical-align: middle;\n",
       "    }\n",
       "\n",
       "    .dataframe tbody tr th {\n",
       "        vertical-align: top;\n",
       "    }\n",
       "\n",
       "    .dataframe thead th {\n",
       "        text-align: right;\n",
       "    }\n",
       "</style>\n",
       "<table border=\"1\" class=\"dataframe\">\n",
       "  <thead>\n",
       "    <tr style=\"text-align: right;\">\n",
       "      <th></th>\n",
       "      <th>created</th>\n",
       "      <th>author</th>\n",
       "      <th>title</th>\n",
       "      <th>ptitle</th>\n",
       "    </tr>\n",
       "  </thead>\n",
       "  <tbody>\n",
       "    <tr>\n",
       "      <th>0</th>\n",
       "      <td>2020-12-29</td>\n",
       "      <td>WallStWarlock</td>\n",
       "      <td>GME sign from the QUAZAR.</td>\n",
       "      <td>gme sign quazar</td>\n",
       "    </tr>\n",
       "    <tr>\n",
       "      <th>1</th>\n",
       "      <td>2020-12-29</td>\n",
       "      <td>Cali_Godbod</td>\n",
       "      <td>5th trade: GME Gang rise up</td>\n",
       "      <td>th trade gme gang rise</td>\n",
       "    </tr>\n",
       "    <tr>\n",
       "      <th>2</th>\n",
       "      <td>2020-12-29</td>\n",
       "      <td>Blitz100000</td>\n",
       "      <td>How much to invest in GME and PLTR</td>\n",
       "      <td>much invest gme pltr</td>\n",
       "    </tr>\n",
       "    <tr>\n",
       "      <th>3</th>\n",
       "      <td>2020-12-29</td>\n",
       "      <td>kunjinn</td>\n",
       "      <td>Yesterday I was celebrating, today I am in the...</td>\n",
       "      <td>yesterday celebrate today gutter margin use gm...</td>\n",
       "    </tr>\n",
       "    <tr>\n",
       "      <th>4</th>\n",
       "      <td>2020-12-29</td>\n",
       "      <td>Effect_Wild</td>\n",
       "      <td>GME DD, look at all the out of stock stickers ...</td>\n",
       "      <td>gme dd look stock sticker</td>\n",
       "    </tr>\n",
       "  </tbody>\n",
       "</table>\n",
       "</div>"
      ],
      "text/plain": [
       "     created         author  \\\n",
       "0 2020-12-29  WallStWarlock   \n",
       "1 2020-12-29    Cali_Godbod   \n",
       "2 2020-12-29    Blitz100000   \n",
       "3 2020-12-29        kunjinn   \n",
       "4 2020-12-29    Effect_Wild   \n",
       "\n",
       "                                               title  \\\n",
       "0                          GME sign from the QUAZAR.   \n",
       "1                        5th trade: GME Gang rise up   \n",
       "2                 How much to invest in GME and PLTR   \n",
       "3  Yesterday I was celebrating, today I am in the...   \n",
       "4  GME DD, look at all the out of stock stickers ...   \n",
       "\n",
       "                                              ptitle  \n",
       "0                                    gme sign quazar  \n",
       "1                             th trade gme gang rise  \n",
       "2                               much invest gme pltr  \n",
       "3  yesterday celebrate today gutter margin use gm...  \n",
       "4                          gme dd look stock sticker  "
      ]
     },
     "execution_count": 29,
     "metadata": {},
     "output_type": "execute_result"
    }
   ],
   "source": [
    "sent_df.head()"
   ]
  },
  {
   "cell_type": "markdown",
   "id": "1bcc5e57",
   "metadata": {},
   "source": [
    "### TextBlob"
   ]
  },
  {
   "cell_type": "markdown",
   "id": "e6452f2a",
   "metadata": {},
   "source": [
    "We apply textBlob sentiment on the processed title column \"ptitle\", which returns a numebr between -1 for negative, and 1 for porisitve polarity."
   ]
  },
  {
   "cell_type": "code",
   "execution_count": 31,
   "id": "e38539b1",
   "metadata": {},
   "outputs": [],
   "source": [
    "from textblob import TextBlob, Word\n",
    "\n",
    "#apply textBlob sentiment \n",
    "sent_df.loc[:,\"polarity_textBlob\"] = sent_df.loc[:,\"ptitle\"].apply(lambda x: TextBlob(x).sentiment.polarity)"
   ]
  },
  {
   "cell_type": "markdown",
   "id": "aa41ff77",
   "metadata": {},
   "source": [
    "In order to plot the by sentiment by day, we create a new dataframe with two columns: \"created\" which hold the dates, and \"polarity_textBlob\" that takes the mean of the sentiment on that day. We also scale the sentiment values by dividing by the standard deviation in order to plot them together the stock price data."
   ]
  },
  {
   "cell_type": "code",
   "execution_count": 103,
   "id": "d9a26e58",
   "metadata": {},
   "outputs": [
    {
     "data": {
      "text/html": [
       "<div>\n",
       "<style scoped>\n",
       "    .dataframe tbody tr th:only-of-type {\n",
       "        vertical-align: middle;\n",
       "    }\n",
       "\n",
       "    .dataframe tbody tr th {\n",
       "        vertical-align: top;\n",
       "    }\n",
       "\n",
       "    .dataframe thead th {\n",
       "        text-align: right;\n",
       "    }\n",
       "</style>\n",
       "<table border=\"1\" class=\"dataframe\">\n",
       "  <thead>\n",
       "    <tr style=\"text-align: right;\">\n",
       "      <th></th>\n",
       "      <th>created</th>\n",
       "      <th>polarity_textBlob</th>\n",
       "      <th>z_polarity_textBlob</th>\n",
       "      <th>z_open</th>\n",
       "      <th>z_close</th>\n",
       "    </tr>\n",
       "  </thead>\n",
       "  <tbody>\n",
       "    <tr>\n",
       "      <th>0</th>\n",
       "      <td>2020-12-20</td>\n",
       "      <td>-0.008333</td>\n",
       "      <td>-0.335841</td>\n",
       "      <td>NaN</td>\n",
       "      <td>NaN</td>\n",
       "    </tr>\n",
       "    <tr>\n",
       "      <th>1</th>\n",
       "      <td>2020-12-21</td>\n",
       "      <td>-0.007686</td>\n",
       "      <td>-0.309767</td>\n",
       "      <td>0.170841</td>\n",
       "      <td>0.167815</td>\n",
       "    </tr>\n",
       "    <tr>\n",
       "      <th>2</th>\n",
       "      <td>2020-12-22</td>\n",
       "      <td>0.068960</td>\n",
       "      <td>2.779160</td>\n",
       "      <td>0.175272</td>\n",
       "      <td>0.210283</td>\n",
       "    </tr>\n",
       "    <tr>\n",
       "      <th>3</th>\n",
       "      <td>2020-12-23</td>\n",
       "      <td>-0.019292</td>\n",
       "      <td>-0.777480</td>\n",
       "      <td>0.217955</td>\n",
       "      <td>0.222277</td>\n",
       "    </tr>\n",
       "    <tr>\n",
       "      <th>4</th>\n",
       "      <td>2020-12-24</td>\n",
       "      <td>-0.055887</td>\n",
       "      <td>-2.252310</td>\n",
       "      <td>0.227032</td>\n",
       "      <td>0.217739</td>\n",
       "    </tr>\n",
       "  </tbody>\n",
       "</table>\n",
       "</div>"
      ],
      "text/plain": [
       "     created  polarity_textBlob  z_polarity_textBlob    z_open   z_close\n",
       "0 2020-12-20          -0.008333            -0.335841       NaN       NaN\n",
       "1 2020-12-21          -0.007686            -0.309767  0.170841  0.167815\n",
       "2 2020-12-22           0.068960             2.779160  0.175272  0.210283\n",
       "3 2020-12-23          -0.019292            -0.777480  0.217955  0.222277\n",
       "4 2020-12-24          -0.055887            -2.252310  0.227032  0.217739"
      ]
     },
     "execution_count": 103,
     "metadata": {},
     "output_type": "execute_result"
    }
   ],
   "source": [
    "#organise sentiment by date and standarside\n",
    "daily_sent_df = sent_df.loc[:,(\"created\", \"polarity_textBlob\")].groupby([\"created\"], as_index=False).mean()\n",
    "daily_sent_df.loc[:,\"z_polarity_textBlob\"] = daily_sent_df.loc[:,\"polarity_textBlob\"]/daily_sent_df.loc[:,\"polarity_textBlob\"].std(axis=0)\n",
    "daily_sent_df.loc[:,\"created\"] = pd.to_datetime(daily_sent_df.loc[:,\"created\"])\n",
    "\n",
    "#standardize stock data as well\n",
    "stock_df.loc[:,\"z_open\"] = stock_df.loc[:,\"Open\"]/stock_df.std(axis=0).iloc[1]\n",
    "stock_df.loc[:,\"z_close\"] = stock_df.loc[:,\"Close\"]/stock_df.std(axis=0).iloc[1]\n",
    "stock_df.loc[:,\"Date\"] = pd.to_datetime(stock_df.loc[:,\"Date\"])\n",
    "\n",
    "# merge for plotting\n",
    "merged = daily_sent_df.merge(stock_df.rename(columns={'Date': 'created'}).loc[:,[\"created\",\"z_open\",\"z_close\"]], how='outer')\n",
    "merged.head()"
   ]
  },
  {
   "cell_type": "code",
   "execution_count": 104,
   "id": "0c4bda4a",
   "metadata": {},
   "outputs": [
    {
     "data": {
      "text/plain": [
       "<AxesSubplot:xlabel='created', ylabel='vals'>"
      ]
     },
     "execution_count": 104,
     "metadata": {},
     "output_type": "execute_result"
    },
    {
     "data": {
      "image/png": "[encoded data removed]",
      "text/plain": [
       "<Figure size 720x504 with 1 Axes>"
      ]
     },
     "metadata": {
      "needs_background": "light"
     },
     "output_type": "display_data"
    }
   ],
   "source": [
    "# Plotting \n",
    "import seaborn as sns\n",
    "import matplotlib.pyplot as plt\n",
    "\n",
    "fig, ax = plt.subplots(figsize=(10,7))\n",
    "mS = merged.loc[:,[\"created\",\"z_close\",\"z_polarity_textBlob\"]].melt('created', var_name='Legend',  value_name='vals')\n",
    "sns.lineplot(ax=ax, data=mS, x=\"created\", y=\"vals\", hue='Legend', palette=\"flare\")"
   ]
  },
  {
   "cell_type": "markdown",
   "id": "751c32e9",
   "metadata": {},
   "source": [
    "### Vader "
   ]
  },
  {
   "cell_type": "markdown",
   "id": "382fb3b6",
   "metadata": {},
   "source": [
    "Because textBlob uses a \"Bag-of-Words\" approach based on a standard vocabulary, it performs relatively poorly. Vader is similar to textBlob, but it allows us to modify the vocabulary to include the specific lexicon used in our /wallstreetbets subreddit. So we use the data exploration analysis done previously to find the 100 most used words in the subreddit, and add them to our Vader Sentiment lexicon, and then we extract a new (hopefully improved) sentiment. \n",
    "\n",
    "We saved the most used word in the file \"lexicon.py\" as a dictionary, where to each word we manually assign a sentiment."
   ]
  },
  {
   "cell_type": "code",
   "execution_count": 106,
   "id": "8a36baa5",
   "metadata": {},
   "outputs": [],
   "source": [
    "#import file from directory\n",
    "import sys  \n",
    "sys.path.insert(0, '/Users/FCRA/Desktop/ALL/BSI/bsi-reddit-gme/pyfiles')"
   ]
  },
  {
   "cell_type": "code",
   "execution_count": 118,
   "id": "73d83c8e",
   "metadata": {},
   "outputs": [],
   "source": [
    "from lexicon import new_words_updated, update_new_words\n",
    "from vaderSentiment.vaderSentiment import SentimentIntensityAnalyzer\n",
    "\n",
    "vader = SentimentIntensityAnalyzer()\n",
    "\n",
    "#update the lexicon with the new words\n",
    "vader.lexicon.update(new_words_updated)\n",
    "\n",
    "#apply Vader sentiment \n",
    "sent_df.loc[:,\"polarity_vader\"] = sent_df.loc[:,\"ptitle\"].apply(lambda x: vader.polarity_scores(x)[\"compound\"])"
   ]
  },
  {
   "cell_type": "code",
   "execution_count": 119,
   "id": "665e4545",
   "metadata": {},
   "outputs": [
    {
     "data": {
      "text/html": [
       "<div>\n",
       "<style scoped>\n",
       "    .dataframe tbody tr th:only-of-type {\n",
       "        vertical-align: middle;\n",
       "    }\n",
       "\n",
       "    .dataframe tbody tr th {\n",
       "        vertical-align: top;\n",
       "    }\n",
       "\n",
       "    .dataframe thead th {\n",
       "        text-align: right;\n",
       "    }\n",
       "</style>\n",
       "<table border=\"1\" class=\"dataframe\">\n",
       "  <thead>\n",
       "    <tr style=\"text-align: right;\">\n",
       "      <th></th>\n",
       "      <th>created</th>\n",
       "      <th>author</th>\n",
       "      <th>title</th>\n",
       "      <th>ptitle</th>\n",
       "      <th>polarity_textBlob</th>\n",
       "      <th>polarity_vader</th>\n",
       "    </tr>\n",
       "  </thead>\n",
       "  <tbody>\n",
       "    <tr>\n",
       "      <th>0</th>\n",
       "      <td>2020-12-29</td>\n",
       "      <td>WallStWarlock</td>\n",
       "      <td>GME sign from the QUAZAR.</td>\n",
       "      <td>gme sign quazar</td>\n",
       "      <td>0.0</td>\n",
       "      <td>0.0000</td>\n",
       "    </tr>\n",
       "    <tr>\n",
       "      <th>1</th>\n",
       "      <td>2020-12-29</td>\n",
       "      <td>Cali_Godbod</td>\n",
       "      <td>5th trade: GME Gang rise up</td>\n",
       "      <td>th trade gme gang rise</td>\n",
       "      <td>0.0</td>\n",
       "      <td>0.0000</td>\n",
       "    </tr>\n",
       "    <tr>\n",
       "      <th>2</th>\n",
       "      <td>2020-12-29</td>\n",
       "      <td>Blitz100000</td>\n",
       "      <td>How much to invest in GME and PLTR</td>\n",
       "      <td>much invest gme pltr</td>\n",
       "      <td>0.2</td>\n",
       "      <td>0.0000</td>\n",
       "    </tr>\n",
       "    <tr>\n",
       "      <th>3</th>\n",
       "      <td>2020-12-29</td>\n",
       "      <td>kunjinn</td>\n",
       "      <td>Yesterday I was celebrating, today I am in the...</td>\n",
       "      <td>yesterday celebrate today gutter margin use gm...</td>\n",
       "      <td>0.0</td>\n",
       "      <td>0.5719</td>\n",
       "    </tr>\n",
       "    <tr>\n",
       "      <th>4</th>\n",
       "      <td>2020-12-29</td>\n",
       "      <td>Effect_Wild</td>\n",
       "      <td>GME DD, look at all the out of stock stickers ...</td>\n",
       "      <td>gme dd look stock sticker</td>\n",
       "      <td>0.0</td>\n",
       "      <td>0.0000</td>\n",
       "    </tr>\n",
       "  </tbody>\n",
       "</table>\n",
       "</div>"
      ],
      "text/plain": [
       "     created         author  \\\n",
       "0 2020-12-29  WallStWarlock   \n",
       "1 2020-12-29    Cali_Godbod   \n",
       "2 2020-12-29    Blitz100000   \n",
       "3 2020-12-29        kunjinn   \n",
       "4 2020-12-29    Effect_Wild   \n",
       "\n",
       "                                               title  \\\n",
       "0                          GME sign from the QUAZAR.   \n",
       "1                        5th trade: GME Gang rise up   \n",
       "2                 How much to invest in GME and PLTR   \n",
       "3  Yesterday I was celebrating, today I am in the...   \n",
       "4  GME DD, look at all the out of stock stickers ...   \n",
       "\n",
       "                                              ptitle  polarity_textBlob  \\\n",
       "0                                    gme sign quazar                0.0   \n",
       "1                             th trade gme gang rise                0.0   \n",
       "2                               much invest gme pltr                0.2   \n",
       "3  yesterday celebrate today gutter margin use gm...                0.0   \n",
       "4                          gme dd look stock sticker                0.0   \n",
       "\n",
       "   polarity_vader  \n",
       "0          0.0000  \n",
       "1          0.0000  \n",
       "2          0.0000  \n",
       "3          0.5719  \n",
       "4          0.0000  "
      ]
     },
     "execution_count": 119,
     "metadata": {},
     "output_type": "execute_result"
    }
   ],
   "source": [
    "sent_df.head()"
   ]
  },
  {
   "cell_type": "markdown",
   "id": "95697561",
   "metadata": {},
   "source": [
    "Similarly to before, we create a dataframe of sentiment by day. "
   ]
  },
  {
   "cell_type": "code",
   "execution_count": 127,
   "id": "96d398ea",
   "metadata": {},
   "outputs": [],
   "source": [
    "#organise sentiment by date and standarside\n",
    "daily_sent_df_vader = sent_df.loc[:,[\"created\", \"polarity_vader\"]].groupby([\"created\"], as_index=False).mean()\n",
    "daily_sent_df_vader.loc[:,\"z_polarity_vader\"] = daily_sent_df_vader.loc[:,\"polarity_vader\"]/daily_sent_df_vader.loc[:,\"polarity_vader\"].std(axis=0)\n",
    "daily_sent_df_vader.loc[:,\"created\"] = pd.to_datetime(daily_sent_df_vader.loc[:,\"created\"])\n",
    "\n",
    "# merge for plotting\n",
    "merged = merged.merge(daily_sent_df_vader.loc[:,[\"created\",\"z_polarity_vader\", \"polarity_vader\"]], how='outer')"
   ]
  },
  {
   "cell_type": "code",
   "execution_count": 126,
   "id": "d26c6ec1",
   "metadata": {},
   "outputs": [
    {
     "data": {
      "text/plain": [
       "<AxesSubplot:xlabel='created', ylabel='vals'>"
      ]
     },
     "execution_count": 126,
     "metadata": {},
     "output_type": "execute_result"
    },
    {
     "data": {
      "image/png": "[encoded data removed]",
      "text/plain": [
       "<Figure size 720x504 with 1 Axes>"
      ]
     },
     "metadata": {
      "needs_background": "light"
     },
     "output_type": "display_data"
    }
   ],
   "source": [
    "fig, ax = plt.subplots(figsize=(10,7))\n",
    "mS = merged.loc[:,[\"created\",\"z_close\",\"z_polarity_textBlob\", \"z_polarity_vader\"]].melt('created', var_name='Legend',  value_name='vals')\n",
    "sns.lineplot(ax=ax, data=mS, x=\"created\", y=\"vals\", hue='Legend', palette=\"flare\")"
   ]
  },
  {
   "cell_type": "markdown",
   "id": "9b3aee34",
   "metadata": {},
   "source": [
    "We observe a more similar pattern between stock price and sentiment when we use Vader rather than textBlob, however out goal is to discover wether there is a pattern, not to assume there is one. Therefore, as we refine out sentiment analysis methods, we will be able to better assess the existence of this pattern. "
   ]
  },
  {
   "cell_type": "markdown",
   "id": "a46fa142",
   "metadata": {},
   "source": [
    "### Word Embeddings"
   ]
  },
  {
   "cell_type": "markdown",
   "id": "536e900b",
   "metadata": {},
   "source": [
    "The textBlob and Vader \"Bag-of-Words\" approach are not able to extract meaning of sentences, but base the sentence sentiment solely based on a superposition of the polarity of each individual word. Therefore we turn to word embeddings to solve improve our analysis and attempt to obtain a more fine-grained masure of sentiment based on our sepcific lexicon and problem. \n",
    "\n",
    "Hence, we are going to convert our submission titles in vector representations of words, and then train a Support Vector Classifier (SVC) model on a dataset with reliable sentiment labels, and then feed in our dataset to get predictions."
   ]
  },
  {
   "cell_type": "code",
   "execution_count": null,
   "id": "4d4d3333",
   "metadata": {},
   "outputs": [],
   "source": []
  },
  {
   "cell_type": "markdown",
   "id": "9f0e8d91",
   "metadata": {},
   "source": [
    "# Evaluation & Conclusions "
   ]
  },
  {
   "cell_type": "markdown",
   "id": "0610b8b2",
   "metadata": {},
   "source": [
    "- Compare Timeline + Stock price + Plots of all Sentiments\n",
    "- Dicusss and evaluate \n",
    "- Streanghts and Weaknessess of appraoch\n",
    "- Avenues for future improvements \n",
    "- Concluding Remarks"
   ]
  },
  {
   "cell_type": "markdown",
   "id": "d80bd995",
   "metadata": {},
   "source": []
  },
  {
   "cell_type": "code",
   "execution_count": null,
   "id": "7f201783",
   "metadata": {},
   "outputs": [],
   "source": []
  }
 ],
 "metadata": {
  "kernelspec": {
   "display_name": "Python 3",
   "language": "python",
   "name": "python3"
  },
  "language_info": {
   "codemirror_mode": {
    "name": "ipython",
    "version": 3
   },
   "file_extension": ".py",
   "mimetype": "text/x-python",
   "name": "python",
   "nbconvert_exporter": "python",
   "pygments_lexer": "ipython3",
   "version": "3.9.0"
  }
 },
 "nbformat": 4,
 "nbformat_minor": 5
}
