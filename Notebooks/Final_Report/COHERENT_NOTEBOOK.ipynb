{
 "cells": [
  {
   "cell_type": "markdown",
   "id": "d5573f08",
   "metadata": {},
   "source": [
    "# STRUCTURE \n",
    "#### 1. Introduction & Approach\n",
    "#### 2. Data Extraction\n",
    "#### 3. Data Exploration\n",
    "#### 4. Research \n",
    "#### 5. Sentiment \n",
    "#### 6. Evaluation \n",
    "#### 7. Conclusions\n",
    "\n"
   ]
  },
  {
   "cell_type": "markdown",
   "id": "511ab62c",
   "metadata": {},
   "source": [
    "# Introduction & Approach"
   ]
  },
  {
   "cell_type": "markdown",
   "id": "a05732c2",
   "metadata": {},
   "source": [
    "The \"short-squeeze\": a compelling episode that took place in early 2021 involving the Reddit's subreddit r/wallstreetbets, powerful hedge funds, and previously declining stocks, amongst which special attention was given to the video game retailer Game Stop (GME). What happened exactly? In short (pardon the pun), retail investors got organised on r/wallstreetbets to mass-purchase GME and other stocks, which funds like Melvin Capital had heavily shorted. This led to an increase in share price, causing lossess to the hedge funds, which in turn bought more shares to compensate for losses, hence driving the share price up even more, from X EUR in December, skyrocketed to Y EUR in late January. \n",
    "\n",
    "We are interested in identifying this phenomenon by looking at the sentiment of submissions (or posts) on r/wallstreetbets concerning the stock GME, and in asserting the extent of its relationship with the share price. Theoretically, the stock price is actually a represesntation of sentiment about a specific asset or company: if many people appreciate your products or believe in your vision, i.e. have positive sentiment about your company, they are likely to buy and hold your stock hence increasing its price. Analysing the submissions on the subreddit is another way of obtaining such sentiment. Therefore, our expectations are that the sentiment of the posts and the price should follow similar trends. Given that its such a concise phenomenon and the interaction of various parties (investors, trading platforms, stock exchanges, news outlets...) we are also interested in looking at how exogenous events influenced the stock price.\n",
    "\n",
    "Hence our research questions are:  \n",
    "1. *How does the sentiment trend on r/wallstreetbets compare to GME's stock price?* \n",
    "2. *How were the sentiment and the stock price influenced by major exogenous events?*\n",
    "\n",
    "Our approach consists in four main phases: Data Extraction, Data Exploration, Research, and Sentiment Analysis. We begin by obtianing the data necessary for the analysis from the relevant APIs; then we explore the data: we look at the daily frequency of submissions, most used words, emojis and specific r/wallstreetbets \"lingo\". Further, we look into the event itself gather information to answer out second research question. Then we proceed with analysing the sentiment using three main approaches on a varying spectrum of model customisability, from the most off-the-shelf with textBlob, to a Vader model updatd with specific \"lingo\", to a custom \\bf{HUBER} classifier trained with word embedding techniques. Finally, we gather our findings, evaluate them and conclude. "
   ]
  },
  {
   "cell_type": "markdown",
   "id": "8b73bc70",
   "metadata": {},
   "source": [
    "# Data Extraction "
   ]
  },
  {
   "cell_type": "code",
   "execution_count": null,
   "metadata": {},
   "outputs": [],
   "source": []
  },
  {
   "cell_type": "code",
   "execution_count": 1,
   "metadata": {},
   "outputs": [],
   "source": [
    "# We use the following library to import data:\n",
    "# https://towardsdatascience.com/free-stock-data-for-python-using-yahoo-finance-api-9dafd96cad2e\n",
    "import yfinance as yf\n",
    "\n",
    "name = \"GME\"\n",
    "start = \"2020-03-20\"\n",
    "end = \"2020-05-20\"\n",
    "interval = \"1h\"\n",
    "\n",
    "# get info stock:\n",
    "def get_stockdata(name, start, end, interval):\n",
    "    GME = yf.Ticker(name)\n",
    "    stock_data = GME.history(start=start, end=end, interval=interval, prepost= True)\n",
    "    stock_data.reset_index(inplace=True)\n",
    "    return stock_data"
   ]
  },
  {
   "source": [
    "from psaw import PushshiftAPI\n",
    "import datetime as dt\n",
    "import logging as log\n",
    "import csv\n",
    "import pandas as pd\n",
    "import os \n",
    "\n",
    "\n",
    "# -- -- -- Methods for fetching Data from Pushshift API -- -- -- #\n",
    "\n",
    "api = PushshiftAPI()\n",
    "start_time = dt.datetime(2020, 12, 20) \n",
    "end_time = dt.datetime(2021,  2, 19)\n",
    "\n",
    "# .TXT\n",
    "# Accesses Pushshift API\n",
    "# splits the time frame (%start_time and %end_time) in blocks of %time_delta days \n",
    "# Creates a separate .txt file for each block\n",
    "# Each .txt files contains the Reddit submissions containing the word \"GME\" in the title\n",
    "def throttle_requests_totxt(start_time, end_time, time_delta):\n",
    "    tmp_etime = start_time + time_delta\n",
    "\n",
    "    while tmp_etime < end_time:\n",
    "        submissions = api.search_submissions(\n",
    "                            after=int(start_time.timestamp()),\n",
    "                            before=int(tmp_etime.timestamp()),\n",
    "                            subreddit='wallstreetbets',\n",
    "                            filter=['url', 'author', 'title',\n",
    "                                'subreddit', 'created_utc'],\n",
    "                            # limit= 100\n",
    "                            )\n",
    "        with open(f'wsb_{start_time}_{tmp_etime}.txt', 'w') as f:\n",
    "            for sub in submissions:\n",
    "                wrds = sub.title.split()\n",
    "                if \"GME\" not in wrds: continue\n",
    "                else:\n",
    "                    log.warning(f\"Sub title: {sub.title}\")\n",
    "                    f.write(f\"{sub}\\n\")\n",
    "            f.flush()\n",
    "\n",
    "        start_time = tmp_etime\n",
    "        tmp_etime = start_time + time_delta\n",
    "    return \"Done\"\n",
    "\n",
    "# # Uncomment Here below to download all .TXT files for the time period specifcied above\n",
    "# x = throttle_requests_totxt(start_time, end_time, dt.timedelta(10)) #10 day cycle\n",
    "# print(x)\n",
    "\n",
    "\n",
    "# CSV \n",
    "# Accesses Pushshift API\n",
    "# splits the time frame (%start_time and %end_time) in blocks of %time_delta days \n",
    "# Creates a separate .csv file for each block\n",
    "# Each .csv files contains the Reddit submissions containing the word \"GME\" in the title\n",
    "def throttle_requests_tocsv(start_time, end_time, time_delta):\n",
    "    tmp_etime = start_time + time_delta\n",
    "\n",
    "    while tmp_etime < end_time:\n",
    "        submissions = api.search_submissions(\n",
    "                            after=int(start_time.timestamp()),\n",
    "                            before=int(tmp_etime.timestamp()),\n",
    "                            subreddit='wallstreetbets',\n",
    "                            filter=['url', 'author', 'title',\n",
    "                                'subreddit', 'created_utc', 'id', 'score', 'upvote_ratio'],\n",
    "                            # limit= 100\n",
    "                            )\n",
    "\n",
    "        with open(f'wsb_{start_time}_{tmp_etime}.csv', 'w') as f: \n",
    "            sub_writer = csv.writer(f, delimiter=',', quotechar='\"', quoting=csv.QUOTE_NONNUMERIC)\n",
    "            sub_writer.writerow(['id', 'created_utc', 'author', 'title', 'url', 'score', 'upvote_ratio'])\n",
    "\n",
    "            for sub in submissions: \n",
    "                wrds = sub.title.split()\n",
    "                if \"GME\" not in wrds: continue \n",
    "                else: \n",
    "                    log.warning(f\"Sub ID:{sub.id}, Sub created_utc: {sub.created_utc}, Sub title: {sub.title[:10]}, Sub score:{sub.score}\")\n",
    "                    sub_writer.writerow([sub.id, sub.created_utc, sub.author, sub.title, sub.url, sub.score, sub.upvote_ratio])           \n",
    "\n",
    "        start_time = tmp_etime\n",
    "        tmp_etime = start_time + time_delta\n",
    "    return \"Done\"\n",
    "\n",
    "# # Uncomment Here below to download all CSV files for the time period specifcied above\n",
    "# x = throttle_requests_tocsv(start_time, end_time, dt.timedelta(10)) #10 day cycle\n",
    "# print(x)\n",
    "        \n",
    "# -- -- -- -- Parsing from CSV to pandas.DataFrame -- -- -- -- #\n",
    "df_dict = {}\n",
    "for filename in os.listdir(\"./files\"):\n",
    "    df_dict[filename] = pd.read_csv(f\"./files/{filename}\")\n",
    "\n",
    "sub_df = pd.concat([df for df in df_dict.values()]).reset_index(drop=True)\n",
    "\n",
    "# convert utc to normal date\n",
    "sub_df[\"created_utc\"] = sub_df[\"created_utc\"].apply(lambda x: dt.datetime.fromtimestamp(int(x)).strftime(\"%Y-%m-%d %H:%M:%S\"))\n",
    "sub_df.rename(columns={'created_utc':'created'}, inplace=True)\n",
    "\n",
    "#sub_df.to_csv(\"sub_df_new.csv\")\n",
    "#print(sub_df.head())\n",
    "#print(sub_df.tail())"
   ],
   "cell_type": "code",
   "metadata": {},
   "execution_count": null,
   "outputs": []
  },
  {
   "cell_type": "markdown",
   "id": "f5ba1ee9",
   "metadata": {},
   "source": [
    "# Data Exploration"
   ]
  },
  {
   "cell_type": "markdown",
   "id": "75f35e08",
   "metadata": {},
   "source": [
    "- Plots of number of submissions with open and close prices. \n",
    "- Preprocessing of words \n",
    "- Word Frequnecy\n",
    "- Analysis and WordClouds\n",
    "- WSB Lingo \n",
    "- Emoji Analysis \n",
    "- Conclusions, challenges and potentail solutions (being aware and critical of our own approach). "
   ]
  },
  {
   "cell_type": "markdown",
   "id": "e194c237",
   "metadata": {},
   "source": [
    "# Research"
   ]
  },
  {
   "cell_type": "markdown",
   "id": "a2a87ab1",
   "metadata": {},
   "source": [
    "- Timeline of Events, make viausally appealing, maybe use a nice design or a cool slide template \n",
    "- Plot the same timeline on the stock price chart\n",
    "- Diuscuss on the posssble implications"
   ]
  },
  {
   "cell_type": "markdown",
   "id": "b76679ea",
   "metadata": {},
   "source": [
    "# Sentiment"
   ]
  },
  {
   "cell_type": "markdown",
   "id": "8abaf17e",
   "metadata": {},
   "source": [
    "- Introduction on types of sentiment analysis and off-the shelft solutions + advantages + shortcomngs\n",
    "- Introduction on more elaborate sentiment methods, advatages + shortcomings \n",
    "- Preprocessing - done\n",
    "- TextBlob - done\n",
    "- Vader - done\n",
    "- WordVectors + SVC \n",
    "- RNN ?\n",
    "- Results "
   ]
  },
  {
   "cell_type": "markdown",
   "id": "ef5b8b98",
   "metadata": {},
   "source": [
    "There are many tools available for semtiment analysis. On a spectrum between off-the-shelf and custom, off-the-shelf tools are fast, easy and accessible libraries of pre-trained models that semalessly provide a measure of polarity (positive or negative sentiment) on a given text input. On the other hand, custom models are possbly more accurate and a better fit to the specific problem you're trying to solve, but they take more time and require a deeper understanding of the underlying techniques. Finally, there are also many solutions in between: off-the-shelf that offer some customisation, advanced techniques that can be applied quickly. We begin by looking at TexBlob, the easiest and quickest, then we move to Vader, which offers some customisation, and the we explore other sentiment techniques using wor embeddings. \n",
    "\n",
    "Before applying any technique, we preprocess our dataset in order to strip it from characters and unuseful text. We lowercase all the text in submissions, remove stop words, and lemmatize the text."
   ]
  },
  {
   "cell_type": "markdown",
   "id": "fcc54a1c",
   "metadata": {},
   "source": [
    "### Importing Data"
   ]
  },
  {
   "cell_type": "code",
   "execution_count": 1,
   "id": "e25eb3ef",
   "metadata": {},
   "outputs": [
    {
     "data": {
      "text/html": [
       "<div>\n",
       "<style scoped>\n",
       "    .dataframe tbody tr th:only-of-type {\n",
       "        vertical-align: middle;\n",
       "    }\n",
       "\n",
       "    .dataframe tbody tr th {\n",
       "        vertical-align: top;\n",
       "    }\n",
       "\n",
       "    .dataframe thead th {\n",
       "        text-align: right;\n",
       "    }\n",
       "</style>\n",
       "<table border=\"1\" class=\"dataframe\">\n",
       "  <thead>\n",
       "    <tr style=\"text-align: right;\">\n",
       "      <th></th>\n",
       "      <th>created</th>\n",
       "      <th>author</th>\n",
       "      <th>title</th>\n",
       "    </tr>\n",
       "  </thead>\n",
       "  <tbody>\n",
       "    <tr>\n",
       "      <th>0</th>\n",
       "      <td>2020-12-29</td>\n",
       "      <td>WallStWarlock</td>\n",
       "      <td>GME sign from the QUAZAR.</td>\n",
       "    </tr>\n",
       "    <tr>\n",
       "      <th>1</th>\n",
       "      <td>2020-12-29</td>\n",
       "      <td>Cali_Godbod</td>\n",
       "      <td>5th trade: GME Gang rise up</td>\n",
       "    </tr>\n",
       "    <tr>\n",
       "      <th>2</th>\n",
       "      <td>2020-12-29</td>\n",
       "      <td>Blitz100000</td>\n",
       "      <td>How much to invest in GME and PLTR</td>\n",
       "    </tr>\n",
       "    <tr>\n",
       "      <th>3</th>\n",
       "      <td>2020-12-29</td>\n",
       "      <td>kunjinn</td>\n",
       "      <td>Yesterday I was celebrating, today I am in the...</td>\n",
       "    </tr>\n",
       "    <tr>\n",
       "      <th>4</th>\n",
       "      <td>2020-12-29</td>\n",
       "      <td>Effect_Wild</td>\n",
       "      <td>GME DD, look at all the out of stock stickers ...</td>\n",
       "    </tr>\n",
       "  </tbody>\n",
       "</table>\n",
       "</div>"
      ],
      "text/plain": [
       "     created         author                                              title\n",
       "0 2020-12-29  WallStWarlock                          GME sign from the QUAZAR.\n",
       "1 2020-12-29    Cali_Godbod                        5th trade: GME Gang rise up\n",
       "2 2020-12-29    Blitz100000                 How much to invest in GME and PLTR\n",
       "3 2020-12-29        kunjinn  Yesterday I was celebrating, today I am in the...\n",
       "4 2020-12-29    Effect_Wild  GME DD, look at all the out of stock stickers ..."
      ]
     },
     "execution_count": 1,
     "metadata": {},
     "output_type": "execute_result"
    }
   ],
   "source": [
    "import pandas as pd\n",
    "sub_df = pd.read_csv(\"sub_df.csv\")\n",
    "sent_df = sub_df.loc[:,(\"created\", \"author\", \"title\")]\n",
    "sent_df.loc[:,\"created\"] = pd.to_datetime(sub_df.loc[:,'created']).dt.floor('d') \n",
    "sent_df.head()"
   ]
  },
  {
   "cell_type": "code",
   "execution_count": 2,
   "id": "f8c40534",
   "metadata": {},
   "outputs": [
    {
     "data": {
      "text/html": [
       "<div>\n",
       "<style scoped>\n",
       "    .dataframe tbody tr th:only-of-type {\n",
       "        vertical-align: middle;\n",
       "    }\n",
       "\n",
       "    .dataframe tbody tr th {\n",
       "        vertical-align: top;\n",
       "    }\n",
       "\n",
       "    .dataframe thead th {\n",
       "        text-align: right;\n",
       "    }\n",
       "</style>\n",
       "<table border=\"1\" class=\"dataframe\">\n",
       "  <thead>\n",
       "    <tr style=\"text-align: right;\">\n",
       "      <th></th>\n",
       "      <th>Date</th>\n",
       "      <th>Open</th>\n",
       "      <th>High</th>\n",
       "      <th>Low</th>\n",
       "      <th>Close</th>\n",
       "      <th>Volume</th>\n",
       "      <th>Dividends</th>\n",
       "      <th>Stock Splits</th>\n",
       "    </tr>\n",
       "  </thead>\n",
       "  <tbody>\n",
       "    <tr>\n",
       "      <th>0</th>\n",
       "      <td>2020-12-21</td>\n",
       "      <td>15.810000</td>\n",
       "      <td>16.350000</td>\n",
       "      <td>15.280000</td>\n",
       "      <td>15.530000</td>\n",
       "      <td>9876100</td>\n",
       "      <td>0</td>\n",
       "      <td>0</td>\n",
       "    </tr>\n",
       "    <tr>\n",
       "      <th>1</th>\n",
       "      <td>2020-12-22</td>\n",
       "      <td>16.219999</td>\n",
       "      <td>20.040001</td>\n",
       "      <td>16.150000</td>\n",
       "      <td>19.459999</td>\n",
       "      <td>30652700</td>\n",
       "      <td>0</td>\n",
       "      <td>0</td>\n",
       "    </tr>\n",
       "    <tr>\n",
       "      <th>2</th>\n",
       "      <td>2020-12-23</td>\n",
       "      <td>20.170000</td>\n",
       "      <td>22.350000</td>\n",
       "      <td>19.129999</td>\n",
       "      <td>20.570000</td>\n",
       "      <td>25830300</td>\n",
       "      <td>0</td>\n",
       "      <td>0</td>\n",
       "    </tr>\n",
       "    <tr>\n",
       "      <th>3</th>\n",
       "      <td>2020-12-24</td>\n",
       "      <td>21.010000</td>\n",
       "      <td>21.480000</td>\n",
       "      <td>19.950001</td>\n",
       "      <td>20.150000</td>\n",
       "      <td>6262200</td>\n",
       "      <td>0</td>\n",
       "      <td>0</td>\n",
       "    </tr>\n",
       "    <tr>\n",
       "      <th>4</th>\n",
       "      <td>2020-12-28</td>\n",
       "      <td>21.309999</td>\n",
       "      <td>21.969999</td>\n",
       "      <td>20.350000</td>\n",
       "      <td>20.990000</td>\n",
       "      <td>8965900</td>\n",
       "      <td>0</td>\n",
       "      <td>0</td>\n",
       "    </tr>\n",
       "  </tbody>\n",
       "</table>\n",
       "</div>"
      ],
      "text/plain": [
       "         Date       Open       High        Low      Close    Volume  \\\n",
       "0  2020-12-21  15.810000  16.350000  15.280000  15.530000   9876100   \n",
       "1  2020-12-22  16.219999  20.040001  16.150000  19.459999  30652700   \n",
       "2  2020-12-23  20.170000  22.350000  19.129999  20.570000  25830300   \n",
       "3  2020-12-24  21.010000  21.480000  19.950001  20.150000   6262200   \n",
       "4  2020-12-28  21.309999  21.969999  20.350000  20.990000   8965900   \n",
       "\n",
       "   Dividends  Stock Splits  \n",
       "0          0             0  \n",
       "1          0             0  \n",
       "2          0             0  \n",
       "3          0             0  \n",
       "4          0             0  "
      ]
     },
     "execution_count": 2,
     "metadata": {},
     "output_type": "execute_result"
    }
   ],
   "source": [
    "stock_df = pd.read_csv(\"gme_stock_data.csv\")\n",
    "stock_df = stock_df.loc[:, ~stock_df.columns.str.contains('^Unnamed')]\n",
    "stock_df.head()"
   ]
  },
  {
   "cell_type": "markdown",
   "id": "178f5beb",
   "metadata": {},
   "source": [
    "### Preprocessing "
   ]
  },
  {
   "cell_type": "code",
   "execution_count": null,
   "id": "8f7b4a8c",
   "metadata": {},
   "outputs": [],
   "source": [
    "# because the nltk download script in the next cell is broken, \n",
    "# run this script and double-click on \"all packages\" to download the necssary data from nltk. \n",
    "# you can do this once only, so you can ignore this cell if you re-run this notebook. \n",
    "import nltk\n",
    "import ssl\n",
    "\n",
    "try:\n",
    "    _create_unverified_https_context = ssl._create_unverified_context\n",
    "except AttributeError:\n",
    "    pass\n",
    "else:\n",
    "    ssl._create_default_https_context = _create_unverified_https_context\n",
    "\n",
    "nltk.download()"
   ]
  },
  {
   "cell_type": "code",
   "execution_count": null,
   "id": "a4f7ebdf",
   "metadata": {},
   "outputs": [],
   "source": [
    "#imports necessary, ignore if you ever run it previously\n",
    "import nltk\n",
    "nltk.download('stopwords')\n",
    "nltk.download('wordnet')\n",
    "nltk.download('punkt')"
   ]
  },
  {
   "cell_type": "code",
   "execution_count": 3,
   "id": "16b82c41",
   "metadata": {},
   "outputs": [],
   "source": [
    "import nltk\n",
    "from nltk.tokenize import word_tokenize\n",
    "from nltk.stem import WordNetLemmatizer \n",
    "from nltk.corpus import wordnet\n",
    "\n",
    "#stopwords\n",
    "from nltk.corpus import stopwords\n",
    "stop = stopwords.words('english')\n",
    "\n",
    "#part-of-speech tagging\n",
    "def get_wordnet_pos(text):\n",
    "  for tok, pos in nltk.pos_tag(word_tokenize(text)):\n",
    "    if pos[0].lower() =='j':\n",
    "      return wordnet.ADJ\n",
    "    elif pos[0].lower() =='v':\n",
    "      return wordnet.VERB\n",
    "    elif pos[0].lower() =='n':\n",
    "      return wordnet.NOUN\n",
    "    elif pos[0].lower() =='r':\n",
    "      return wordnet.ADV\n",
    "    else:\n",
    "      return wordnet.NOUN   #if anything else, just leave as noun\n",
    "\n",
    "#lemmatization\n",
    "lemmatizer = WordNetLemmatizer() \n",
    "\n",
    "def tagandlemma(title): \n",
    "  words = word_tokenize(title)\n",
    "  lemmatized_words = [lemmatizer.lemmatize(word, pos=f\"{get_wordnet_pos(word)}\") for word in words]\n",
    "  return \" \".join(lemmatized_words)"
   ]
  },
  {
   "cell_type": "markdown",
   "id": "81ee2d4c",
   "metadata": {},
   "source": [
    "Here we below apply the preprocessing functions, since our dataset contains around 76K submissions, it might take a while to run, so be patient :) or upload the already preprocessed csv in the subsequent cell. "
   ]
  },
  {
   "cell_type": "code",
   "execution_count": null,
   "id": "3e31228b",
   "metadata": {},
   "outputs": [],
   "source": [
    "import re\n",
    "sent_df.loc[:,\"ptitle\"] = sent_df.loc[:,\"title\"].str.lower().str.replace(r'([^a-zA-Z\\s])|(^https?:\\/\\/.*[\\r\\n]*)', ' ')\n",
    "sent_df.loc[:,\"ptitle\"] = sent_df.loc[:,\"ptitle\"].apply(lambda x: \" \".join(x for x in x.split() if x not in stop))\n",
    "sent_df.loc[:,\"ptitle\"] = sent_df.loc[:,\"ptitle\"].apply(lambda x: tagandlemma(x))"
   ]
  },
  {
   "cell_type": "code",
   "execution_count": 4,
   "id": "3720c068",
   "metadata": {},
   "outputs": [],
   "source": [
    "#upload already preprocessed csv titles\n",
    "sent_df.loc[:,\"ptitle\"] = pd.read_csv(\"preproc_titles.csv\").loc[:,\"title\"]"
   ]
  },
  {
   "cell_type": "code",
   "execution_count": 5,
   "id": "bb6cb103",
   "metadata": {},
   "outputs": [
    {
     "data": {
      "text/html": [
       "<div>\n",
       "<style scoped>\n",
       "    .dataframe tbody tr th:only-of-type {\n",
       "        vertical-align: middle;\n",
       "    }\n",
       "\n",
       "    .dataframe tbody tr th {\n",
       "        vertical-align: top;\n",
       "    }\n",
       "\n",
       "    .dataframe thead th {\n",
       "        text-align: right;\n",
       "    }\n",
       "</style>\n",
       "<table border=\"1\" class=\"dataframe\">\n",
       "  <thead>\n",
       "    <tr style=\"text-align: right;\">\n",
       "      <th></th>\n",
       "      <th>created</th>\n",
       "      <th>author</th>\n",
       "      <th>title</th>\n",
       "      <th>ptitle</th>\n",
       "    </tr>\n",
       "  </thead>\n",
       "  <tbody>\n",
       "    <tr>\n",
       "      <th>0</th>\n",
       "      <td>2020-12-29</td>\n",
       "      <td>WallStWarlock</td>\n",
       "      <td>GME sign from the QUAZAR.</td>\n",
       "      <td>gme sign quazar</td>\n",
       "    </tr>\n",
       "    <tr>\n",
       "      <th>1</th>\n",
       "      <td>2020-12-29</td>\n",
       "      <td>Cali_Godbod</td>\n",
       "      <td>5th trade: GME Gang rise up</td>\n",
       "      <td>th trade gme gang rise</td>\n",
       "    </tr>\n",
       "    <tr>\n",
       "      <th>2</th>\n",
       "      <td>2020-12-29</td>\n",
       "      <td>Blitz100000</td>\n",
       "      <td>How much to invest in GME and PLTR</td>\n",
       "      <td>much invest gme pltr</td>\n",
       "    </tr>\n",
       "    <tr>\n",
       "      <th>3</th>\n",
       "      <td>2020-12-29</td>\n",
       "      <td>kunjinn</td>\n",
       "      <td>Yesterday I was celebrating, today I am in the...</td>\n",
       "      <td>yesterday celebrate today gutter margin use gm...</td>\n",
       "    </tr>\n",
       "    <tr>\n",
       "      <th>4</th>\n",
       "      <td>2020-12-29</td>\n",
       "      <td>Effect_Wild</td>\n",
       "      <td>GME DD, look at all the out of stock stickers ...</td>\n",
       "      <td>gme dd look stock sticker</td>\n",
       "    </tr>\n",
       "  </tbody>\n",
       "</table>\n",
       "</div>"
      ],
      "text/plain": [
       "     created         author  \\\n",
       "0 2020-12-29  WallStWarlock   \n",
       "1 2020-12-29    Cali_Godbod   \n",
       "2 2020-12-29    Blitz100000   \n",
       "3 2020-12-29        kunjinn   \n",
       "4 2020-12-29    Effect_Wild   \n",
       "\n",
       "                                               title  \\\n",
       "0                          GME sign from the QUAZAR.   \n",
       "1                        5th trade: GME Gang rise up   \n",
       "2                 How much to invest in GME and PLTR   \n",
       "3  Yesterday I was celebrating, today I am in the...   \n",
       "4  GME DD, look at all the out of stock stickers ...   \n",
       "\n",
       "                                              ptitle  \n",
       "0                                    gme sign quazar  \n",
       "1                             th trade gme gang rise  \n",
       "2                               much invest gme pltr  \n",
       "3  yesterday celebrate today gutter margin use gm...  \n",
       "4                          gme dd look stock sticker  "
      ]
     },
     "execution_count": 5,
     "metadata": {},
     "output_type": "execute_result"
    }
   ],
   "source": [
    "sent_df.head()"
   ]
  },
  {
   "cell_type": "markdown",
   "id": "fa78dec5",
   "metadata": {},
   "source": [
    "### TextBlob"
   ]
  },
  {
   "cell_type": "markdown",
   "id": "fe7fd569",
   "metadata": {},
   "source": [
    "We apply textBlob sentiment on the processed title column \"ptitle\", which returns a number between -1 for negative, and 1 for porisitve polarity."
   ]
  },
  {
   "cell_type": "code",
   "execution_count": 6,
   "id": "611d215d",
   "metadata": {},
   "outputs": [],
   "source": [
    "from textblob import TextBlob, Word\n",
    "\n",
    "#apply textBlob sentiment \n",
    "sent_df.loc[:,\"polarity_textBlob\"] = sent_df.loc[:,\"ptitle\"].apply(lambda x: TextBlob(x).sentiment.polarity)"
   ]
  },
  {
   "cell_type": "markdown",
   "id": "2d34a389",
   "metadata": {},
   "source": [
    "In order to plot the by sentiment by day, we create a new dataframe with two columns: \"created\" which hold the dates, and \"polarity_textBlob\" that takes the mean of the sentiment on that day. We also scale the sentiment values by dividing by the standard deviation in order to plot them together the stock price data. There are NaNs for stock price data on the days where the stock market is closed, so it's normal. "
   ]
  },
  {
   "cell_type": "code",
   "execution_count": 7,
   "id": "a30ab166",
   "metadata": {},
   "outputs": [
    {
     "data": {
      "text/html": [
       "<div>\n",
       "<style scoped>\n",
       "    .dataframe tbody tr th:only-of-type {\n",
       "        vertical-align: middle;\n",
       "    }\n",
       "\n",
       "    .dataframe tbody tr th {\n",
       "        vertical-align: top;\n",
       "    }\n",
       "\n",
       "    .dataframe thead th {\n",
       "        text-align: right;\n",
       "    }\n",
       "</style>\n",
       "<table border=\"1\" class=\"dataframe\">\n",
       "  <thead>\n",
       "    <tr style=\"text-align: right;\">\n",
       "      <th></th>\n",
       "      <th>created</th>\n",
       "      <th>polarity_textBlob</th>\n",
       "      <th>z_polarity_textBlob</th>\n",
       "      <th>z_open</th>\n",
       "      <th>z_close</th>\n",
       "    </tr>\n",
       "  </thead>\n",
       "  <tbody>\n",
       "    <tr>\n",
       "      <th>0</th>\n",
       "      <td>2020-12-20</td>\n",
       "      <td>-0.008333</td>\n",
       "      <td>-0.335906</td>\n",
       "      <td>NaN</td>\n",
       "      <td>NaN</td>\n",
       "    </tr>\n",
       "    <tr>\n",
       "      <th>1</th>\n",
       "      <td>2020-12-21</td>\n",
       "      <td>-0.007686</td>\n",
       "      <td>-0.309826</td>\n",
       "      <td>0.138649</td>\n",
       "      <td>0.136194</td>\n",
       "    </tr>\n",
       "    <tr>\n",
       "      <th>2</th>\n",
       "      <td>2020-12-22</td>\n",
       "      <td>0.068960</td>\n",
       "      <td>2.779696</td>\n",
       "      <td>0.142245</td>\n",
       "      <td>0.170659</td>\n",
       "    </tr>\n",
       "    <tr>\n",
       "      <th>3</th>\n",
       "      <td>2020-12-23</td>\n",
       "      <td>-0.019292</td>\n",
       "      <td>-0.777630</td>\n",
       "      <td>0.176885</td>\n",
       "      <td>0.180393</td>\n",
       "    </tr>\n",
       "    <tr>\n",
       "      <th>4</th>\n",
       "      <td>2020-12-24</td>\n",
       "      <td>-0.055887</td>\n",
       "      <td>-2.252744</td>\n",
       "      <td>0.184252</td>\n",
       "      <td>0.176710</td>\n",
       "    </tr>\n",
       "  </tbody>\n",
       "</table>\n",
       "</div>"
      ],
      "text/plain": [
       "     created  polarity_textBlob  z_polarity_textBlob    z_open   z_close\n",
       "0 2020-12-20          -0.008333            -0.335906       NaN       NaN\n",
       "1 2020-12-21          -0.007686            -0.309826  0.138649  0.136194\n",
       "2 2020-12-22           0.068960             2.779696  0.142245  0.170659\n",
       "3 2020-12-23          -0.019292            -0.777630  0.176885  0.180393\n",
       "4 2020-12-24          -0.055887            -2.252744  0.184252  0.176710"
      ]
     },
     "execution_count": 7,
     "metadata": {},
     "output_type": "execute_result"
    }
   ],
   "source": [
    "#organise sentiment by date and standarside\n",
    "daily_sent_df = sent_df.loc[:,(\"created\", \"polarity_textBlob\")].groupby([\"created\"], as_index=False).mean()\n",
    "daily_sent_df.loc[:,\"z_polarity_textBlob\"] = daily_sent_df.loc[:,\"polarity_textBlob\"]/daily_sent_df.loc[:,\"polarity_textBlob\"].std(axis=0)\n",
    "daily_sent_df.loc[:,\"created\"] = pd.to_datetime(daily_sent_df.loc[:,\"created\"])\n",
    "\n",
    "#standardize stock data as well\n",
    "stock_df.loc[:,\"z_open\"] = stock_df.loc[:,\"Open\"]/stock_df.std(axis=0).iloc[1]\n",
    "stock_df.loc[:,\"z_close\"] = stock_df.loc[:,\"Close\"]/stock_df.std(axis=0).iloc[1]\n",
    "stock_df.loc[:,\"Date\"] = pd.to_datetime(stock_df.loc[:,\"Date\"])\n",
    "\n",
    "# merge for plotting\n",
    "merged = daily_sent_df.merge(stock_df.rename(columns={'Date': 'created'}).loc[:,[\"created\",\"z_open\",\"z_close\"]], how='outer')\n",
    "merged.head()"
   ]
  },
  {
   "cell_type": "code",
   "execution_count": 8,
   "id": "e9c6e9fb",
   "metadata": {},
   "outputs": [
    {
     "data": {
      "text/plain": [
       "<AxesSubplot:xlabel='created', ylabel='vals'>"
      ]
     },
     "execution_count": 8,
     "metadata": {},
     "output_type": "execute_result"
    },
    {
     "data": {
      "image/png": "[encoded data removed]",
      "text/plain": [
       "<Figure size 720x504 with 1 Axes>"
      ]
     },
     "metadata": {
      "needs_background": "light"
     },
     "output_type": "display_data"
    }
   ],
   "source": [
    "# Plotting \n",
    "import seaborn as sns\n",
    "import matplotlib.pyplot as plt\n",
    "\n",
    "fig, ax = plt.subplots(figsize=(10,7))\n",
    "mS = merged.loc[:,[\"created\",\"z_close\",\"z_polarity_textBlob\"]].melt('created', var_name='Legend',  value_name='vals')\n",
    "sns.lineplot(ax=ax, data=mS, x=\"created\", y=\"vals\", hue='Legend', palette=\"flare\")"
   ]
  },
  {
   "cell_type": "markdown",
   "id": "4d584b77",
   "metadata": {},
   "source": [
    "### Vader "
   ]
  },
  {
   "cell_type": "markdown",
   "id": "fe8c6a92",
   "metadata": {},
   "source": [
    "Because textBlob uses a \"Bag-of-Words\" approach based on a standard vocabulary, it performs relatively poorly. Vader is similar to textBlob, but it allows us to modify the vocabulary to include the specific lexicon used in our /wallstreetbets subreddit. So we use the data exploration analysis done previously to find the 100 most used words in the subreddit, and add them to our Vader Sentiment lexicon, and then we extract a new (hopefully improved) sentiment. \n",
    "\n",
    "We saved the most used word in the file \"lexicon.py\" as a dictionary, where to each word we manually assign a sentiment."
   ]
  },
  {
   "cell_type": "code",
   "execution_count": null,
   "id": "1fd77451",
   "metadata": {},
   "outputs": [],
   "source": [
    "#import file from directory\n",
    "#import sys  \n",
    "#sys.path.insert(0, '/Users/FCRA/Desktop/ALL/BSI/bsi-reddit-gme/pyfiles')"
   ]
  },
  {
   "cell_type": "code",
   "execution_count": 9,
   "id": "861c80ca",
   "metadata": {},
   "outputs": [],
   "source": [
    "from lexicon import new_words_updated\n",
    "from vaderSentiment.vaderSentiment import SentimentIntensityAnalyzer\n",
    "\n",
    "vader = SentimentIntensityAnalyzer()\n",
    "\n",
    "#update the lexicon with the new words\n",
    "vader.lexicon.update(new_words_updated)\n",
    "\n",
    "#apply Vader sentiment \n",
    "sent_df.loc[:,\"polarity_vader\"] = sent_df.loc[:,\"ptitle\"].apply(lambda x: vader.polarity_scores(x)[\"compound\"])"
   ]
  },
  {
   "cell_type": "code",
   "execution_count": 10,
   "id": "1e2aab42",
   "metadata": {},
   "outputs": [
    {
     "data": {
      "text/html": [
       "<div>\n",
       "<style scoped>\n",
       "    .dataframe tbody tr th:only-of-type {\n",
       "        vertical-align: middle;\n",
       "    }\n",
       "\n",
       "    .dataframe tbody tr th {\n",
       "        vertical-align: top;\n",
       "    }\n",
       "\n",
       "    .dataframe thead th {\n",
       "        text-align: right;\n",
       "    }\n",
       "</style>\n",
       "<table border=\"1\" class=\"dataframe\">\n",
       "  <thead>\n",
       "    <tr style=\"text-align: right;\">\n",
       "      <th></th>\n",
       "      <th>created</th>\n",
       "      <th>author</th>\n",
       "      <th>title</th>\n",
       "      <th>ptitle</th>\n",
       "      <th>polarity_textBlob</th>\n",
       "      <th>polarity_vader</th>\n",
       "    </tr>\n",
       "  </thead>\n",
       "  <tbody>\n",
       "    <tr>\n",
       "      <th>0</th>\n",
       "      <td>2020-12-29</td>\n",
       "      <td>WallStWarlock</td>\n",
       "      <td>GME sign from the QUAZAR.</td>\n",
       "      <td>gme sign quazar</td>\n",
       "      <td>0.0</td>\n",
       "      <td>0.0000</td>\n",
       "    </tr>\n",
       "    <tr>\n",
       "      <th>1</th>\n",
       "      <td>2020-12-29</td>\n",
       "      <td>Cali_Godbod</td>\n",
       "      <td>5th trade: GME Gang rise up</td>\n",
       "      <td>th trade gme gang rise</td>\n",
       "      <td>0.0</td>\n",
       "      <td>0.0000</td>\n",
       "    </tr>\n",
       "    <tr>\n",
       "      <th>2</th>\n",
       "      <td>2020-12-29</td>\n",
       "      <td>Blitz100000</td>\n",
       "      <td>How much to invest in GME and PLTR</td>\n",
       "      <td>much invest gme pltr</td>\n",
       "      <td>0.2</td>\n",
       "      <td>0.0000</td>\n",
       "    </tr>\n",
       "    <tr>\n",
       "      <th>3</th>\n",
       "      <td>2020-12-29</td>\n",
       "      <td>kunjinn</td>\n",
       "      <td>Yesterday I was celebrating, today I am in the...</td>\n",
       "      <td>yesterday celebrate today gutter margin use gm...</td>\n",
       "      <td>0.0</td>\n",
       "      <td>0.5719</td>\n",
       "    </tr>\n",
       "    <tr>\n",
       "      <th>4</th>\n",
       "      <td>2020-12-29</td>\n",
       "      <td>Effect_Wild</td>\n",
       "      <td>GME DD, look at all the out of stock stickers ...</td>\n",
       "      <td>gme dd look stock sticker</td>\n",
       "      <td>0.0</td>\n",
       "      <td>0.0000</td>\n",
       "    </tr>\n",
       "  </tbody>\n",
       "</table>\n",
       "</div>"
      ],
      "text/plain": [
       "     created         author  \\\n",
       "0 2020-12-29  WallStWarlock   \n",
       "1 2020-12-29    Cali_Godbod   \n",
       "2 2020-12-29    Blitz100000   \n",
       "3 2020-12-29        kunjinn   \n",
       "4 2020-12-29    Effect_Wild   \n",
       "\n",
       "                                               title  \\\n",
       "0                          GME sign from the QUAZAR.   \n",
       "1                        5th trade: GME Gang rise up   \n",
       "2                 How much to invest in GME and PLTR   \n",
       "3  Yesterday I was celebrating, today I am in the...   \n",
       "4  GME DD, look at all the out of stock stickers ...   \n",
       "\n",
       "                                              ptitle  polarity_textBlob  \\\n",
       "0                                    gme sign quazar                0.0   \n",
       "1                             th trade gme gang rise                0.0   \n",
       "2                               much invest gme pltr                0.2   \n",
       "3  yesterday celebrate today gutter margin use gm...                0.0   \n",
       "4                          gme dd look stock sticker                0.0   \n",
       "\n",
       "   polarity_vader  \n",
       "0          0.0000  \n",
       "1          0.0000  \n",
       "2          0.0000  \n",
       "3          0.5719  \n",
       "4          0.0000  "
      ]
     },
     "execution_count": 10,
     "metadata": {},
     "output_type": "execute_result"
    }
   ],
   "source": [
    "sent_df.head()"
   ]
  },
  {
   "cell_type": "markdown",
   "id": "e76f8244",
   "metadata": {},
   "source": [
    "Similarly to before, we create a dataframe of sentiment by day. "
   ]
  },
  {
   "cell_type": "code",
   "execution_count": 10,
   "id": "060832a8",
   "metadata": {},
   "outputs": [],
   "source": [
    "#organise sentiment by date and standarside\n",
    "daily_sent_df_vader = sent_df.loc[:,[\"created\", \"polarity_vader\"]].groupby([\"created\"], as_index=False).mean()\n",
    "daily_sent_df_vader.loc[:,\"z_polarity_vader\"] = daily_sent_df_vader.loc[:,\"polarity_vader\"]/daily_sent_df_vader.loc[:,\"polarity_vader\"].std(axis=0)\n",
    "daily_sent_df_vader.loc[:,\"created\"] = pd.to_datetime(daily_sent_df_vader.loc[:,\"created\"])\n",
    "\n",
    "# merge for plotting\n",
    "merged = merged.merge(daily_sent_df_vader.loc[:,[\"created\",\"z_polarity_vader\", \"polarity_vader\"]], how='outer')"
   ]
  },
  {
   "cell_type": "code",
   "execution_count": 11,
   "id": "1c4307a3",
   "metadata": {},
   "outputs": [
    {
     "data": {
      "text/plain": [
       "<AxesSubplot:xlabel='created', ylabel='vals'>"
      ]
     },
     "execution_count": 11,
     "metadata": {},
     "output_type": "execute_result"
    },
    {
     "data": {
      "image/png": "[encoded data removed]",
      "text/plain": [
       "<Figure size 720x504 with 1 Axes>"
      ]
     },
     "metadata": {
      "needs_background": "light"
     },
     "output_type": "display_data"
    }
   ],
   "source": [
    "fig, ax = plt.subplots(figsize=(10,7))\n",
    "mS = merged.loc[:,[\"created\",\"z_close\",\"z_polarity_textBlob\", \"z_polarity_vader\"]].melt('created', var_name='Legend',  value_name='vals')\n",
    "sns.lineplot(ax=ax, data=mS, x=\"created\", y=\"vals\", hue='Legend', palette=\"flare\")"
   ]
  },
  {
   "cell_type": "markdown",
   "id": "10b4ae8b",
   "metadata": {},
   "source": [
    "We observe a more similar pattern between stock price and sentiment when we use Vader rather than textBlob, however out goal is to discover wether there is a pattern, not to assume there is one. Therefore, as we refine out sentiment analysis methods, we will be able to better assess the existence of this pattern. "
   ]
  },
  {
   "cell_type": "markdown",
   "id": "82902f2c",
   "metadata": {},
   "source": [
    "## Word Embeddings"
   ]
  },
  {
   "cell_type": "markdown",
   "id": "d17ba328",
   "metadata": {},
   "source": [
    "The textBlob and Vader \"Bag-of-Words\" approach base the sentence sentiment solely on a superposition of the polarity of each individual word, without taking into account what words can mean in context. Therefore we turn to Word Wmbeddings to improve our analysis and attempt to obtain a more fine-grained masure of sentiment.\n",
    "\n",
    "Hence, we are going to use HansingVectorizer to map the each word in a word vector space, where similar words are close to eachother and dissimilar ones are not. We chose HashingVectorizer because of the memory efficiency. Then we use the Sentiment140 Dataset created by Alec Go, Richa Bhayani, and Lei Huang to train our Support Vector Classifier. The dataser consists of 1.6M tweets about various topics including Obama, Kindle, Windows 10... each with reliable sentiment labels. Once we trained the SVC, we obtian predictions on the sentiment of our Reddit posts. "
   ]
  },
  {
   "cell_type": "markdown",
   "id": "472a0718",
   "metadata": {},
   "source": [
    "### Preprocessing of Sentiment140 Dataset"
   ]
  },
  {
   "cell_type": "markdown",
   "id": "4fb62c4b",
   "metadata": {},
   "source": [
    "Here is the code for how we preprocessed the training and testing sets. This takes a while, hence when running this notebook we advise skipping to the cell where we upload the already-preprocessed files below. "
   ]
  },
  {
   "cell_type": "code",
   "execution_count": null,
   "id": "754b7d2b",
   "metadata": {},
   "outputs": [],
   "source": [
    "nltk.download('averaged_perceptron_tagger')"
   ]
  },
  {
   "cell_type": "code",
   "execution_count": null,
   "id": "f87c74b0",
   "metadata": {},
   "outputs": [],
   "source": [
    "#training data preproc\n",
    "rdf = pd.read_csv('reduced1600000KTrainingData.csv')\n",
    "rdf = rdf.loc[:, ~rdf.columns.str.contains('^Unnamed')]\n",
    "rdf.columns = [\"polarity\", \"ptitle\"]\n",
    "rdf[\"ptitle\"] = rdf[\"ptitle\"].str.lower().str.replace(r'([^a-zA-Z\\s])|(^https?:\\/\\/.*[\\r\\n]*)', '') \n",
    "rdf[\"ptitle\"] = rdf[\"ptitle\"].apply(lambda x: \" \".join(x for x in x.split() if x not in stop))\n",
    "rdf[\"ptitle\"] = rdf[\"ptitle\"].apply(lambda x: tagandlemma(x))\n",
    "rdf.to_csv(\"preprocessed_training_final.csv\")\n",
    "\n",
    "#testing data preproc\n",
    "test = pd.read_csv('reducedTestingData.csv')\n",
    "test = test[[\"polarity\", \"text\"]]\n",
    "test.columns = [\"polarity\", \"ptitle\"]\n",
    "test[\"ptitle\"] = test[\"ptitle\"].str.lower().str.replace(r'([^a-zA-Z\\s])|(^https?:\\/\\/.*[\\r\\n]*)', '') \n",
    "test[\"ptitle\"] = test[\"ptitle\"].apply(lambda x: \" \".join(x for x in x.split() if x not in stop))\n",
    "test[\"ptitle\"] = test[\"ptitle\"].apply(lambda x: tagandlemma(x))\n",
    "test.to_csv(\"preprocessed_test.csv\")"
   ]
  },
  {
   "cell_type": "markdown",
   "id": "4f32ccec",
   "metadata": {},
   "source": [
    "Here we read the already preprocessed files. Furthermore, since the dataset is organised with all the negative posts at the beginning an the positive at the end, we randomise the rows in order to have randomised appearance of positive and negative comments, in order to avoid bias when triaining the model. "
   ]
  },
  {
   "cell_type": "code",
   "execution_count": 12,
   "id": "34ab899e",
   "metadata": {},
   "outputs": [
    {
     "data": {
      "text/html": [
       "<div>\n",
       "<style scoped>\n",
       "    .dataframe tbody tr th:only-of-type {\n",
       "        vertical-align: middle;\n",
       "    }\n",
       "\n",
       "    .dataframe tbody tr th {\n",
       "        vertical-align: top;\n",
       "    }\n",
       "\n",
       "    .dataframe thead th {\n",
       "        text-align: right;\n",
       "    }\n",
       "</style>\n",
       "<table border=\"1\" class=\"dataframe\">\n",
       "  <thead>\n",
       "    <tr style=\"text-align: right;\">\n",
       "      <th></th>\n",
       "      <th>polarity</th>\n",
       "      <th>ptitle</th>\n",
       "    </tr>\n",
       "  </thead>\n",
       "  <tbody>\n",
       "    <tr>\n",
       "      <th>0</th>\n",
       "      <td>0</td>\n",
       "      <td>donniewahlberg plz give away ticket dallas sho...</td>\n",
       "    </tr>\n",
       "    <tr>\n",
       "      <th>1</th>\n",
       "      <td>4</td>\n",
       "      <td>hazeljoy bit piece still poorly bore youre wel...</td>\n",
       "    </tr>\n",
       "    <tr>\n",
       "      <th>2</th>\n",
       "      <td>0</td>\n",
       "      <td>go mampds en im sun burnt</td>\n",
       "    </tr>\n",
       "    <tr>\n",
       "      <th>3</th>\n",
       "      <td>4</td>\n",
       "      <td>rhyiza ooo good ive think buying</td>\n",
       "    </tr>\n",
       "    <tr>\n",
       "      <th>4</th>\n",
       "      <td>4</td>\n",
       "      <td>babygirlparis fantastic time paradise drink ma...</td>\n",
       "    </tr>\n",
       "  </tbody>\n",
       "</table>\n",
       "</div>"
      ],
      "text/plain": [
       "   polarity                                             ptitle\n",
       "0         0  donniewahlberg plz give away ticket dallas sho...\n",
       "1         4  hazeljoy bit piece still poorly bore youre wel...\n",
       "2         0                          go mampds en im sun burnt\n",
       "3         4                   rhyiza ooo good ive think buying\n",
       "4         4  babygirlparis fantastic time paradise drink ma..."
      ]
     },
     "execution_count": 12,
     "metadata": {},
     "output_type": "execute_result"
    }
   ],
   "source": [
    "#training\n",
    "rdf = pd.read_csv('preprocessed_training_final.csv')\n",
    "rdf = rdf.loc[:, ~rdf.columns.str.contains('^Unnamed')]\n",
    "rdf.columns = [\"polarity\", \"ptitle\"]\n",
    "\n",
    "#randomise rows\n",
    "rdf = rdf.sample(frac=1).reset_index(drop=True)\n",
    "\n",
    "rdf.head()"
   ]
  },
  {
   "cell_type": "code",
   "execution_count": 13,
   "id": "ea98683e",
   "metadata": {},
   "outputs": [
    {
     "data": {
      "text/html": [
       "<div>\n",
       "<style scoped>\n",
       "    .dataframe tbody tr th:only-of-type {\n",
       "        vertical-align: middle;\n",
       "    }\n",
       "\n",
       "    .dataframe tbody tr th {\n",
       "        vertical-align: top;\n",
       "    }\n",
       "\n",
       "    .dataframe thead th {\n",
       "        text-align: right;\n",
       "    }\n",
       "</style>\n",
       "<table border=\"1\" class=\"dataframe\">\n",
       "  <thead>\n",
       "    <tr style=\"text-align: right;\">\n",
       "      <th></th>\n",
       "      <th>polarity</th>\n",
       "      <th>title</th>\n",
       "      <th>ptitle</th>\n",
       "    </tr>\n",
       "  </thead>\n",
       "  <tbody>\n",
       "    <tr>\n",
       "      <th>0</th>\n",
       "      <td>4</td>\n",
       "      <td>@stellargirl I loooooooovvvvvveee my Kindle2. ...</td>\n",
       "      <td>stellargirl loooooooovvvvvveee kindle dx cool ...</td>\n",
       "    </tr>\n",
       "    <tr>\n",
       "      <th>1</th>\n",
       "      <td>4</td>\n",
       "      <td>Reading my kindle2...  Love it... Lee childs i...</td>\n",
       "      <td>reading kindle love lee child good read</td>\n",
       "    </tr>\n",
       "    <tr>\n",
       "      <th>2</th>\n",
       "      <td>4</td>\n",
       "      <td>Ok, first assesment of the #kindle2 ...it fuck...</td>\n",
       "      <td>ok first assesment kindle fuck rock</td>\n",
       "    </tr>\n",
       "    <tr>\n",
       "      <th>3</th>\n",
       "      <td>4</td>\n",
       "      <td>@kenburbary You'll love your Kindle2. I've had...</td>\n",
       "      <td>kenburbary love kindle mine month never look b...</td>\n",
       "    </tr>\n",
       "    <tr>\n",
       "      <th>4</th>\n",
       "      <td>4</td>\n",
       "      <td>@mikefish  Fair enough. But i have the Kindle2...</td>\n",
       "      <td>mikefish fair enough kindle think perfect</td>\n",
       "    </tr>\n",
       "  </tbody>\n",
       "</table>\n",
       "</div>"
      ],
      "text/plain": [
       "   polarity                                              title  \\\n",
       "0         4  @stellargirl I loooooooovvvvvveee my Kindle2. ...   \n",
       "1         4  Reading my kindle2...  Love it... Lee childs i...   \n",
       "2         4  Ok, first assesment of the #kindle2 ...it fuck...   \n",
       "3         4  @kenburbary You'll love your Kindle2. I've had...   \n",
       "4         4  @mikefish  Fair enough. But i have the Kindle2...   \n",
       "\n",
       "                                              ptitle  \n",
       "0  stellargirl loooooooovvvvvveee kindle dx cool ...  \n",
       "1            reading kindle love lee child good read  \n",
       "2                ok first assesment kindle fuck rock  \n",
       "3  kenburbary love kindle mine month never look b...  \n",
       "4          mikefish fair enough kindle think perfect  "
      ]
     },
     "execution_count": 13,
     "metadata": {},
     "output_type": "execute_result"
    }
   ],
   "source": [
    "#test\n",
    "test = pd.read_csv('preprocessed_test_final.csv')\n",
    "test = test.loc[:, ~test.columns.str.contains('^Unnamed')]\n",
    "test.head()"
   ]
  },
  {
   "cell_type": "code",
   "execution_count": 14,
   "id": "a33cb312",
   "metadata": {},
   "outputs": [
    {
     "data": {
      "text/plain": [
       "0    donniewahlberg plz give away ticket dallas sho...\n",
       "1    hazeljoy bit piece still poorly bore youre wel...\n",
       "2                            go mampds en im sun burnt\n",
       "3                     rhyiza ooo good ive think buying\n",
       "4    babygirlparis fantastic time paradise drink ma...\n",
       "Name: ptitle, dtype: object"
      ]
     },
     "execution_count": 14,
     "metadata": {},
     "output_type": "execute_result"
    }
   ],
   "source": [
    "#splitting features and labels\n",
    "train = rdf.dropna(axis=0)\n",
    "train_x = train[\"ptitle\"] \n",
    "train_y = train[\"polarity\"]   \n",
    "train_x.head()"
   ]
  },
  {
   "cell_type": "markdown",
   "id": "7035a5fe",
   "metadata": {},
   "source": [
    "### The Model"
   ]
  },
  {
   "cell_type": "markdown",
   "id": "e77b0c74",
   "metadata": {},
   "source": [
    "Given the large amount of data, we train in batches to avoid running out of RAM. "
   ]
  },
  {
   "cell_type": "code",
   "execution_count": 89,
   "id": "91fa128d",
   "metadata": {},
   "outputs": [],
   "source": [
    "from sklearn.linear_model import SGDClassifier\n",
    "from sklearn.feature_extraction.text import HashingVectorizer #,TfidfTransformer\n",
    "#from sklearn.pipeline import make_pipeline\n",
    "import numpy as np\n",
    "\n",
    "vectorizer = HashingVectorizer()\n",
    "#tfTran = TfidfTransformer()\n",
    "#sklearn.feature_extraction.text.TfidfTransformer¶\n",
    "\n",
    "clf = SGDClassifier(loss=\"modified_huber\") \n",
    "\n",
    "batch_size = 5000\n",
    "start = 0\n",
    "epochs = int(len(train_x.index)/batch_size)\n",
    "\n",
    "for i in range(epochs): \n",
    "  train_x_batch = train_x[start:(start+batch_size)]\n",
    "  train_y_batch = train_y[start:(start+batch_size)]\n",
    "  \n",
    "  vectors_x = vectorizer.fit_transform(train_x_batch)\n",
    "  clf.partial_fit(vectors_x, train_y_batch, classes=np.unique(train_y_batch))\n",
    "  start = start+batch_size"
   ]
  },
  {
   "cell_type": "markdown",
   "id": "0a0b96fe",
   "metadata": {},
   "source": [
    "Now that the SDG is trained, we test the model with the testing dataset provided by Sentiment140."
   ]
  },
  {
   "cell_type": "code",
   "execution_count": 90,
   "id": "fd646f7f",
   "metadata": {},
   "outputs": [],
   "source": [
    "test_pn = test.loc[test[\"polarity\"]!=2].reset_index(drop=True) #remove neutral tweets since we had none in our training set\n",
    "predict = pd.DataFrame(test_pn.loc[:,[\"polarity\", \"ptitle\"]])\n",
    "\n",
    "test_x = test_pn.loc[:,\"ptitle\"]\n",
    "test_y = test_pn.loc[:,\"polarity\"]\n",
    "\n",
    "test_vectors_x = vectorizer.fit_transform(test_x.values.astype(str))\n",
    "predict.loc[:,\"pred\"] = clf.predict(test_vectors_x)"
   ]
  },
  {
   "cell_type": "code",
   "execution_count": 91,
   "id": "40780c70",
   "metadata": {},
   "outputs": [
    {
     "data": {
      "text/plain": [
       "0.8022284122562674"
      ]
     },
     "execution_count": 91,
     "metadata": {},
     "output_type": "execute_result"
    }
   ],
   "source": [
    "#checking how many predictions were correct #DELETE, you can do with functions below\n",
    "count = 0\n",
    "for i in range(len(predict.index)):\n",
    "  if predict.loc[i,\"polarity\"]==predict.loc[i,\"pred\"]: \n",
    "    count=count+1\n",
    "right_pred = count/len(predict.index)\n",
    "right_pred"
   ]
  },
  {
   "cell_type": "markdown",
   "id": "7f46202a",
   "metadata": {},
   "source": [
    "We obtain an accuracy of around 79%, which we consider good enough to proceed and predict the sentiment of our /wallstreetbets submission titles. "
   ]
  },
  {
   "cell_type": "code",
   "execution_count": 92,
   "id": "8d9512e8",
   "metadata": {},
   "outputs": [
    {
     "data": {
      "text/plain": [
       "0.8022284122562674"
      ]
     },
     "execution_count": 92,
     "metadata": {},
     "output_type": "execute_result"
    }
   ],
   "source": [
    "from sklearn.metrics import accuracy_score, recall_score, precision_score, confusion_matrix\n",
    "y_pred = predict.loc[:,\"pred\"]\n",
    "y_true = test_pn.loc[:,\"polarity\"]\n",
    "\n",
    "accuracy_score(y_true, y_pred)"
   ]
  },
  {
   "cell_type": "code",
   "execution_count": 93,
   "id": "430db3fd",
   "metadata": {},
   "outputs": [
    {
     "data": {
      "text/plain": [
       "array([0.74011299, 0.86263736])"
      ]
     },
     "execution_count": 93,
     "metadata": {},
     "output_type": "execute_result"
    }
   ],
   "source": [
    "recall_score(y_true, y_pred, average=None)"
   ]
  },
  {
   "cell_type": "code",
   "execution_count": 94,
   "id": "813bb305",
   "metadata": {},
   "outputs": [
    {
     "data": {
      "text/plain": [
       "array([0.83974359, 0.77339901])"
      ]
     },
     "execution_count": 94,
     "metadata": {},
     "output_type": "execute_result"
    }
   ],
   "source": [
    "precision_score(y_true, y_pred, average=None)"
   ]
  },
  {
   "cell_type": "code",
   "execution_count": 95,
   "id": "77b01d9e",
   "metadata": {},
   "outputs": [
    {
     "data": {
      "text/plain": [
       "array([[131,  46],\n",
       "       [ 25, 157]])"
      ]
     },
     "execution_count": 95,
     "metadata": {},
     "output_type": "execute_result"
    }
   ],
   "source": [
    "confusion_matrix(y_true, y_pred)"
   ]
  },
  {
   "cell_type": "markdown",
   "id": "cbf2a535",
   "metadata": {},
   "source": [
    "### Prediction of WSB Titles"
   ]
  },
  {
   "cell_type": "code",
   "execution_count": 65,
   "id": "78cb1b5f",
   "metadata": {},
   "outputs": [],
   "source": [
    "test_gme = sent_df.loc[:,\"ptitle\"]\n",
    "\n",
    "test_vectors_x = vectorizer.fit_transform(test_gme.values.astype(str))\n",
    "sent_df.loc[:,\"polarity_WEM\"] = clf.predict(test_vectors_x)"
   ]
  },
  {
   "cell_type": "code",
   "execution_count": 66,
   "id": "720de90d",
   "metadata": {},
   "outputs": [
    {
     "data": {
      "text/html": [
       "<div>\n",
       "<style scoped>\n",
       "    .dataframe tbody tr th:only-of-type {\n",
       "        vertical-align: middle;\n",
       "    }\n",
       "\n",
       "    .dataframe tbody tr th {\n",
       "        vertical-align: top;\n",
       "    }\n",
       "\n",
       "    .dataframe thead th {\n",
       "        text-align: right;\n",
       "    }\n",
       "</style>\n",
       "<table border=\"1\" class=\"dataframe\">\n",
       "  <thead>\n",
       "    <tr style=\"text-align: right;\">\n",
       "      <th></th>\n",
       "      <th>created</th>\n",
       "      <th>author</th>\n",
       "      <th>title</th>\n",
       "      <th>ptitle</th>\n",
       "      <th>polarity_textBlob</th>\n",
       "      <th>polarity_vader</th>\n",
       "      <th>polarity_WEM</th>\n",
       "    </tr>\n",
       "  </thead>\n",
       "  <tbody>\n",
       "    <tr>\n",
       "      <th>0</th>\n",
       "      <td>2020-12-29</td>\n",
       "      <td>WallStWarlock</td>\n",
       "      <td>GME sign from the QUAZAR.</td>\n",
       "      <td>gme sign quazar</td>\n",
       "      <td>0.0</td>\n",
       "      <td>0.0000</td>\n",
       "      <td>4</td>\n",
       "    </tr>\n",
       "    <tr>\n",
       "      <th>1</th>\n",
       "      <td>2020-12-29</td>\n",
       "      <td>Cali_Godbod</td>\n",
       "      <td>5th trade: GME Gang rise up</td>\n",
       "      <td>th trade gme gang rise</td>\n",
       "      <td>0.0</td>\n",
       "      <td>0.0000</td>\n",
       "      <td>4</td>\n",
       "    </tr>\n",
       "    <tr>\n",
       "      <th>2</th>\n",
       "      <td>2020-12-29</td>\n",
       "      <td>Blitz100000</td>\n",
       "      <td>How much to invest in GME and PLTR</td>\n",
       "      <td>much invest gme pltr</td>\n",
       "      <td>0.2</td>\n",
       "      <td>0.0000</td>\n",
       "      <td>4</td>\n",
       "    </tr>\n",
       "    <tr>\n",
       "      <th>3</th>\n",
       "      <td>2020-12-29</td>\n",
       "      <td>kunjinn</td>\n",
       "      <td>Yesterday I was celebrating, today I am in the...</td>\n",
       "      <td>yesterday celebrate today gutter margin use gm...</td>\n",
       "      <td>0.0</td>\n",
       "      <td>0.5719</td>\n",
       "      <td>4</td>\n",
       "    </tr>\n",
       "    <tr>\n",
       "      <th>4</th>\n",
       "      <td>2020-12-29</td>\n",
       "      <td>Effect_Wild</td>\n",
       "      <td>GME DD, look at all the out of stock stickers ...</td>\n",
       "      <td>gme dd look stock sticker</td>\n",
       "      <td>0.0</td>\n",
       "      <td>0.0000</td>\n",
       "      <td>4</td>\n",
       "    </tr>\n",
       "  </tbody>\n",
       "</table>\n",
       "</div>"
      ],
      "text/plain": [
       "     created         author  \\\n",
       "0 2020-12-29  WallStWarlock   \n",
       "1 2020-12-29    Cali_Godbod   \n",
       "2 2020-12-29    Blitz100000   \n",
       "3 2020-12-29        kunjinn   \n",
       "4 2020-12-29    Effect_Wild   \n",
       "\n",
       "                                               title  \\\n",
       "0                          GME sign from the QUAZAR.   \n",
       "1                        5th trade: GME Gang rise up   \n",
       "2                 How much to invest in GME and PLTR   \n",
       "3  Yesterday I was celebrating, today I am in the...   \n",
       "4  GME DD, look at all the out of stock stickers ...   \n",
       "\n",
       "                                              ptitle  polarity_textBlob  \\\n",
       "0                                    gme sign quazar                0.0   \n",
       "1                             th trade gme gang rise                0.0   \n",
       "2                               much invest gme pltr                0.2   \n",
       "3  yesterday celebrate today gutter margin use gm...                0.0   \n",
       "4                          gme dd look stock sticker                0.0   \n",
       "\n",
       "   polarity_vader  polarity_WEM  \n",
       "0          0.0000             4  \n",
       "1          0.0000             4  \n",
       "2          0.0000             4  \n",
       "3          0.5719             4  \n",
       "4          0.0000             4  "
      ]
     },
     "execution_count": 66,
     "metadata": {},
     "output_type": "execute_result"
    }
   ],
   "source": [
    "sent_df.head()"
   ]
  },
  {
   "cell_type": "code",
   "execution_count": 67,
   "id": "e6fbd401",
   "metadata": {},
   "outputs": [],
   "source": [
    "#change to specific polarity\n",
    "def convert_into_range(sent):\n",
    "  if sent==4: \n",
    "    return 1\n",
    "  else:\n",
    "    return -1"
   ]
  },
  {
   "cell_type": "code",
   "execution_count": 68,
   "id": "a837e1e4",
   "metadata": {},
   "outputs": [
    {
     "data": {
      "text/plain": [
       "0        1\n",
       "1        1\n",
       "2        1\n",
       "3        1\n",
       "4        1\n",
       "        ..\n",
       "76347   -1\n",
       "76348    1\n",
       "76349    1\n",
       "76350    1\n",
       "76351    1\n",
       "Name: polarity_WEM, Length: 76352, dtype: int64"
      ]
     },
     "execution_count": 68,
     "metadata": {},
     "output_type": "execute_result"
    }
   ],
   "source": [
    "sent_df.loc[:,\"polarity_WEM\"] = sent_df.loc[:,\"polarity_WEM\"].apply(convert_into_range)\n",
    "sent_df.loc[:,\"polarity_WEM\"]\n"
   ]
  },
  {
   "cell_type": "code",
   "execution_count": 69,
   "id": "5ae6763e",
   "metadata": {},
   "outputs": [],
   "source": [
    "daily_sent_df_WEM = sent_df.loc[:,(\"created\", \"polarity_WEM\")].groupby([\"created\"], as_index=False).sum()\n",
    "daily_sent_df_WEM.loc[:,\"z_polarity_WEM\"] = daily_sent_df_WEM.loc[:,\"polarity_WEM\"]/daily_sent_df_WEM.loc[:,\"polarity_WEM\"].std(axis=0)\n",
    "daily_sent_df_WEM.loc[:,\"created\"] = pd.to_datetime(daily_sent_df_WEM.loc[:,\"created\"])\n",
    "daily_sent_df_WEM\n",
    "\n",
    "#merge for plotting\n",
    "merged = merged.merge(daily_sent_df_WEM.loc[:,[\"created\",\"z_polarity_WEM\", \"polarity_WEM\"]], how='outer')"
   ]
  },
  {
   "cell_type": "code",
   "execution_count": 70,
   "id": "b7cd125c",
   "metadata": {},
   "outputs": [
    {
     "data": {
      "text/plain": [
       "<AxesSubplot:xlabel='created', ylabel='vals'>"
      ]
     },
     "execution_count": 70,
     "metadata": {},
     "output_type": "execute_result"
    },
    {
     "data": {
      "image/png": "[encoded data removed]",
      "text/plain": [
       "<Figure size 720x504 with 1 Axes>"
      ]
     },
     "metadata": {
      "needs_background": "light"
     },
     "output_type": "display_data"
    }
   ],
   "source": [
    "#plotting\n",
    "fig, ax = plt.subplots(figsize=(10,7))\n",
    "mS = merged.loc[:,[\"created\",\"z_close\",\"z_polarity_WEM\"]].melt('created', var_name='Legend',  value_name='vals')\n",
    "sns.lineplot(ax=ax, data=mS, x=\"created\", y=\"vals\", hue='Legend', palette=\"flare\")"
   ]
  },
  {
   "cell_type": "code",
   "execution_count": 25,
   "id": "965e0608",
   "metadata": {},
   "outputs": [
    {
     "data": {
      "text/plain": [
       "<AxesSubplot:xlabel='created', ylabel='vals'>"
      ]
     },
     "execution_count": 25,
     "metadata": {},
     "output_type": "execute_result"
    },
    {
     "data": {
      "image/png": "[encoded data removed]",
      "text/plain": [
       "<Figure size 720x504 with 1 Axes>"
      ]
     },
     "metadata": {
      "needs_background": "light"
     },
     "output_type": "display_data"
    }
   ],
   "source": [
    "#plot them all together \n",
    "fig, ax = plt.subplots(figsize=(10,7))\n",
    "mS = merged.loc[:,[\"created\",\"z_close\",\"z_polarity_textBlob\", \"z_polarity_vader\",\"z_polarity_WEM\"]].melt('created', var_name='Legend',  value_name='vals')\n",
    "sns.lineplot(ax=ax, data=mS, x=\"created\", y=\"vals\", hue='Legend', palette=\"flare\")"
   ]
  },
  {
   "cell_type": "markdown",
   "id": "9f0e8d91",
   "metadata": {},
   "source": [
    "# Evaluation & Conclusions "
   ]
  },
  {
   "cell_type": "markdown",
   "id": "0610b8b2",
   "metadata": {},
   "source": [
    "- Compare Timeline + Stock price + Plots of all Sentiments\n",
    "- Dicusss and evaluate \n",
    "- Streanghts and Weaknessess of appraoch\n",
    "- Avenues for future improvements \n",
    "- Concluding Remarks\n",
    "\n",
    "#commento sul lungo termine"
   ]
  },
  {
   "cell_type": "markdown",
   "id": "d80bd995",
   "metadata": {},
   "source": []
  },
  {
   "cell_type": "code",
   "execution_count": null,
   "id": "7f201783",
   "metadata": {},
   "outputs": [],
   "source": []
  }
 ],
 "metadata": {
  "kernelspec": {
   "name": "python3",
   "display_name": "Python 3.7.0b3 64-bit"
  },
  "language_info": {
   "codemirror_mode": {
    "name": "ipython",
    "version": 3
   },
   "file_extension": ".py",
   "mimetype": "text/x-python",
   "name": "python",
   "nbconvert_exporter": "python",
   "pygments_lexer": "ipython3",
   "version": "3.7.0"
  },
  "interpreter": {
   "hash": "48827d035531ab3070869194bf051c268755a4eb926f5e1ed6208fcb889593ad"
  }
 },
 "nbformat": 4,
 "nbformat_minor": 5
}