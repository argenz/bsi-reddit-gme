{
 "cells": [
  {
   "cell_type": "markdown",
   "id": "d5573f08",
   "metadata": {},
   "source": [
    "# STRUCTURE \n",
    "#### 1. Introduction & Approach\n",
    "#### 2. Data Extraction\n",
    "#### 3. Data Exploration\n",
    "#### 4. Research \n",
    "#### 5. Sentiment \n",
    "#### 6. Evaluation \n",
    "#### 7. Conclusions\n",
    "\n"
   ]
  },
  {
   "cell_type": "markdown",
   "id": "511ab62c",
   "metadata": {},
   "source": [
    "# Introduction & Approach"
   ]
  },
  {
   "cell_type": "markdown",
   "id": "a05732c2",
   "metadata": {},
   "source": [
    "- What are we doing? Why? \n",
    "- Which questions are we answering? \n",
    "- How do we plant to do it? \n",
    "- How is this notebook structured? "
   ]
  },
  {
   "cell_type": "markdown",
   "id": "8b73bc70",
   "metadata": {},
   "source": [
    "# Data Extraction "
   ]
  },
  {
   "cell_type": "markdown",
   "id": "ffbb3561",
   "metadata": {},
   "source": [
    "- Submission extraction + cleaning\n",
    "- yFinance stock price extraction + cleaning "
   ]
  },
  {
   "cell_type": "markdown",
   "id": "f5ba1ee9",
   "metadata": {},
   "source": [
    "# Data Exploration"
   ]
  },
  {
   "cell_type": "markdown",
   "id": "75f35e08",
   "metadata": {},
   "source": [
    "- Plots of number of submissions with open and close prices. \n",
    "- Preprocessing of words \n",
    "- Word Frequnecy\n",
    "- Analysis and WordClouds\n",
    "- WSB Lingo \n",
    "- Emoji Analysis \n",
    "- Conclusions, challenges and potentail solutions (being aware and critical of our own approach). "
   ]
  },
  {
   "cell_type": "markdown",
   "id": "e194c237",
   "metadata": {},
   "source": [
    "# Research"
   ]
  },
  {
   "cell_type": "markdown",
   "id": "a2a87ab1",
   "metadata": {},
   "source": [
    "- Timeline of Events, make viausally appealing, maybe use a nice design or a cool slide template \n",
    "- Plot the same timeline on the stock price chart\n",
    "- Diuscuss on the posssble implications"
   ]
  },
  {
   "cell_type": "markdown",
   "id": "b76679ea",
   "metadata": {},
   "source": [
    "# Sentiment"
   ]
  },
  {
   "cell_type": "markdown",
   "id": "8abaf17e",
   "metadata": {},
   "source": [
    "- Introduction on types of sentiment analysis and off-the shelft solutions + advantages + shortcomngs\n",
    "- Introduction on more elaborate sentiment methods, advatages + shortcomings \n",
    "- Preprocessing \n",
    "- TextBlob\n",
    "- Vader\n",
    "- WordVectors + SVC \n",
    "- Results "
   ]
  },
  {
   "cell_type": "markdown",
   "id": "9f0e8d91",
   "metadata": {},
   "source": [
    "# Evaluation & Conclusions "
   ]
  },
  {
   "cell_type": "markdown",
   "id": "0610b8b2",
   "metadata": {},
   "source": [
    "- Compare Timeline + Stock price + Plots of all Sentiments\n",
    "- Dicusss and evaluate \n",
    "- Streanghts and Weaknessess of appraoch\n",
    "- Avenues for future improvements \n",
    "- Concluding Remarks"
   ]
  },
  {
   "cell_type": "markdown",
   "id": "d80bd995",
   "metadata": {},
   "source": []
  },
  {
   "cell_type": "code",
   "execution_count": null,
   "id": "7f201783",
   "metadata": {},
   "outputs": [],
   "source": []
  }
 ],
 "metadata": {
  "kernelspec": {
   "display_name": "Python 3",
   "language": "python",
   "name": "python3"
  },
  "language_info": {
   "codemirror_mode": {
    "name": "ipython",
    "version": 3
   },
   "file_extension": ".py",
   "mimetype": "text/x-python",
   "name": "python",
   "nbconvert_exporter": "python",
   "pygments_lexer": "ipython3",
   "version": "3.9.0"
  }
 },
 "nbformat": 4,
 "nbformat_minor": 5
}